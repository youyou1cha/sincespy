{
 "cells": [
  {
   "cell_type": "code",
   "execution_count": 2,
   "metadata": {
    "collapsed": true,
    "pycharm": {
     "name": "#%%\n"
    }
   },
   "outputs": [],
   "source": [
    "import pandas as pd\n",
    "import numpy as np"
   ]
  },
  {
   "cell_type": "code",
   "execution_count": 3,
   "outputs": [],
   "source": [
    "df = pd.DataFrame(np.random.randn(20).reshape(4,5))"
   ],
   "metadata": {
    "collapsed": false,
    "pycharm": {
     "name": "#%%\n"
    }
   }
  },
  {
   "cell_type": "code",
   "execution_count": 4,
   "outputs": [
    {
     "data": {
      "text/plain": "          0         1         2         3         4\n0  1.088365 -1.266533 -0.694037  0.110678  0.392899\n1 -1.190586  1.331505  0.017059  0.498510 -1.456396\n2  0.539215  0.246193 -1.185460  2.230987 -0.112190\n3 -0.249186  0.026355 -0.461863 -1.516361  0.027543",
      "text/html": "<div>\n<style scoped>\n    .dataframe tbody tr th:only-of-type {\n        vertical-align: middle;\n    }\n\n    .dataframe tbody tr th {\n        vertical-align: top;\n    }\n\n    .dataframe thead th {\n        text-align: right;\n    }\n</style>\n<table border=\"1\" class=\"dataframe\">\n  <thead>\n    <tr style=\"text-align: right;\">\n      <th></th>\n      <th>0</th>\n      <th>1</th>\n      <th>2</th>\n      <th>3</th>\n      <th>4</th>\n    </tr>\n  </thead>\n  <tbody>\n    <tr>\n      <th>0</th>\n      <td>1.088365</td>\n      <td>-1.266533</td>\n      <td>-0.694037</td>\n      <td>0.110678</td>\n      <td>0.392899</td>\n    </tr>\n    <tr>\n      <th>1</th>\n      <td>-1.190586</td>\n      <td>1.331505</td>\n      <td>0.017059</td>\n      <td>0.498510</td>\n      <td>-1.456396</td>\n    </tr>\n    <tr>\n      <th>2</th>\n      <td>0.539215</td>\n      <td>0.246193</td>\n      <td>-1.185460</td>\n      <td>2.230987</td>\n      <td>-0.112190</td>\n    </tr>\n    <tr>\n      <th>3</th>\n      <td>-0.249186</td>\n      <td>0.026355</td>\n      <td>-0.461863</td>\n      <td>-1.516361</td>\n      <td>0.027543</td>\n    </tr>\n  </tbody>\n</table>\n</div>"
     },
     "execution_count": 4,
     "metadata": {},
     "output_type": "execute_result"
    }
   ],
   "source": [
    "df"
   ],
   "metadata": {
    "collapsed": false,
    "pycharm": {
     "name": "#%%\n"
    }
   }
  },
  {
   "cell_type": "code",
   "execution_count": 6,
   "outputs": [
    {
     "data": {
      "text/plain": "          0         1         2         3         4\n0  1.088365 -1.266533 -0.694037  0.110678  0.392899\n2  0.539215  0.246193 -1.185460  2.230987 -0.112190",
      "text/html": "<div>\n<style scoped>\n    .dataframe tbody tr th:only-of-type {\n        vertical-align: middle;\n    }\n\n    .dataframe tbody tr th {\n        vertical-align: top;\n    }\n\n    .dataframe thead th {\n        text-align: right;\n    }\n</style>\n<table border=\"1\" class=\"dataframe\">\n  <thead>\n    <tr style=\"text-align: right;\">\n      <th></th>\n      <th>0</th>\n      <th>1</th>\n      <th>2</th>\n      <th>3</th>\n      <th>4</th>\n    </tr>\n  </thead>\n  <tbody>\n    <tr>\n      <th>0</th>\n      <td>1.088365</td>\n      <td>-1.266533</td>\n      <td>-0.694037</td>\n      <td>0.110678</td>\n      <td>0.392899</td>\n    </tr>\n    <tr>\n      <th>2</th>\n      <td>0.539215</td>\n      <td>0.246193</td>\n      <td>-1.185460</td>\n      <td>2.230987</td>\n      <td>-0.112190</td>\n    </tr>\n  </tbody>\n</table>\n</div>"
     },
     "execution_count": 6,
     "metadata": {},
     "output_type": "execute_result"
    }
   ],
   "source": [
    "df[df[0] > df[1].mean()]"
   ],
   "metadata": {
    "collapsed": false,
    "pycharm": {
     "name": "#%%\n"
    }
   }
  },
  {
   "cell_type": "code",
   "execution_count": 8,
   "outputs": [
    {
     "data": {
      "text/plain": "          0         1         2         3         4\n0  1.088365 -1.266533 -0.694037  0.110678  0.392899\n2  0.539215  0.246193 -1.185460  2.230987 -0.112190",
      "text/html": "<div>\n<style scoped>\n    .dataframe tbody tr th:only-of-type {\n        vertical-align: middle;\n    }\n\n    .dataframe tbody tr th {\n        vertical-align: top;\n    }\n\n    .dataframe thead th {\n        text-align: right;\n    }\n</style>\n<table border=\"1\" class=\"dataframe\">\n  <thead>\n    <tr style=\"text-align: right;\">\n      <th></th>\n      <th>0</th>\n      <th>1</th>\n      <th>2</th>\n      <th>3</th>\n      <th>4</th>\n    </tr>\n  </thead>\n  <tbody>\n    <tr>\n      <th>0</th>\n      <td>1.088365</td>\n      <td>-1.266533</td>\n      <td>-0.694037</td>\n      <td>0.110678</td>\n      <td>0.392899</td>\n    </tr>\n    <tr>\n      <th>2</th>\n      <td>0.539215</td>\n      <td>0.246193</td>\n      <td>-1.185460</td>\n      <td>2.230987</td>\n      <td>-0.112190</td>\n    </tr>\n  </tbody>\n</table>\n</div>"
     },
     "execution_count": 8,
     "metadata": {},
     "output_type": "execute_result"
    }
   ],
   "source": [
    "df[[True,False,True,False]]"
   ],
   "metadata": {
    "collapsed": false,
    "pycharm": {
     "name": "#%%\n"
    }
   }
  },
  {
   "cell_type": "code",
   "execution_count": 9,
   "outputs": [
    {
     "data": {
      "text/plain": "          0         1         2         3\n0  1.088365 -1.190586  0.539215 -0.249186\n1 -1.266533  1.331505  0.246193  0.026355\n2 -0.694037  0.017059 -1.185460 -0.461863\n3  0.110678  0.498510  2.230987 -1.516361\n4  0.392899 -1.456396 -0.112190  0.027543",
      "text/html": "<div>\n<style scoped>\n    .dataframe tbody tr th:only-of-type {\n        vertical-align: middle;\n    }\n\n    .dataframe tbody tr th {\n        vertical-align: top;\n    }\n\n    .dataframe thead th {\n        text-align: right;\n    }\n</style>\n<table border=\"1\" class=\"dataframe\">\n  <thead>\n    <tr style=\"text-align: right;\">\n      <th></th>\n      <th>0</th>\n      <th>1</th>\n      <th>2</th>\n      <th>3</th>\n    </tr>\n  </thead>\n  <tbody>\n    <tr>\n      <th>0</th>\n      <td>1.088365</td>\n      <td>-1.190586</td>\n      <td>0.539215</td>\n      <td>-0.249186</td>\n    </tr>\n    <tr>\n      <th>1</th>\n      <td>-1.266533</td>\n      <td>1.331505</td>\n      <td>0.246193</td>\n      <td>0.026355</td>\n    </tr>\n    <tr>\n      <th>2</th>\n      <td>-0.694037</td>\n      <td>0.017059</td>\n      <td>-1.185460</td>\n      <td>-0.461863</td>\n    </tr>\n    <tr>\n      <th>3</th>\n      <td>0.110678</td>\n      <td>0.498510</td>\n      <td>2.230987</td>\n      <td>-1.516361</td>\n    </tr>\n    <tr>\n      <th>4</th>\n      <td>0.392899</td>\n      <td>-1.456396</td>\n      <td>-0.112190</td>\n      <td>0.027543</td>\n    </tr>\n  </tbody>\n</table>\n</div>"
     },
     "execution_count": 9,
     "metadata": {},
     "output_type": "execute_result"
    }
   ],
   "source": [
    "df.T"
   ],
   "metadata": {
    "collapsed": false,
    "pycharm": {
     "name": "#%%\n"
    }
   }
  },
  {
   "cell_type": "code",
   "execution_count": null,
   "outputs": [],
   "source": [
    " "
   ],
   "metadata": {
    "collapsed": false,
    "pycharm": {
     "name": "#%%\n"
    }
   }
  }
 ],
 "metadata": {
  "kernelspec": {
   "display_name": "Python 3",
   "language": "python",
   "name": "python3"
  },
  "language_info": {
   "codemirror_mode": {
    "name": "ipython",
    "version": 2
   },
   "file_extension": ".py",
   "mimetype": "text/x-python",
   "name": "python",
   "nbconvert_exporter": "python",
   "pygments_lexer": "ipython2",
   "version": "2.7.6"
  }
 },
 "nbformat": 4,
 "nbformat_minor": 0
}