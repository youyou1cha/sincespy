{
 "cells": [
  {
   "cell_type": "code",
   "execution_count": 2,
   "outputs": [],
   "source": [
    "# 处理丢失数据\n",
    "import pandas as pd\n",
    "import numpy as np\n",
    "\n",
    "string_data = pd.Series(['aardvardk', 'aaaaaaa', np.nan, 'avacoao'])"
   ],
   "metadata": {
    "collapsed": false,
    "pycharm": {
     "name": "#%%\n"
    }
   }
  },
  {
   "cell_type": "code",
   "execution_count": 3,
   "outputs": [
    {
     "data": {
      "text/plain": "0    aardvardk\n1      aaaaaaa\n2          NaN\n3      avacoao\ndtype: object"
     },
     "execution_count": 3,
     "metadata": {},
     "output_type": "execute_result"
    }
   ],
   "source": [
    "string_data"
   ],
   "metadata": {
    "collapsed": false,
    "pycharm": {
     "name": "#%%\n"
    }
   }
  },
  {
   "cell_type": "code",
   "execution_count": 5,
   "outputs": [
    {
     "data": {
      "text/plain": "0    False\n1    False\n2     True\n3    False\ndtype: bool"
     },
     "execution_count": 5,
     "metadata": {},
     "output_type": "execute_result"
    }
   ],
   "source": [
    "string_data.isnull()"
   ],
   "metadata": {
    "collapsed": false,
    "pycharm": {
     "name": "#%%\n"
    }
   }
  },
  {
   "cell_type": "code",
   "execution_count": 7,
   "outputs": [],
   "source": [
    "from numpy import nan as NA\n",
    "\n",
    "data = pd.Series([1, NA, 3.5, NA, 8])"
   ],
   "metadata": {
    "collapsed": false,
    "pycharm": {
     "name": "#%%\n"
    }
   }
  },
  {
   "cell_type": "code",
   "execution_count": 8,
   "outputs": [
    {
     "data": {
      "text/plain": "0    1.0\n1    NaN\n2    3.5\n3    NaN\n4    8.0\ndtype: float64"
     },
     "execution_count": 8,
     "metadata": {},
     "output_type": "execute_result"
    }
   ],
   "source": [
    "data"
   ],
   "metadata": {
    "collapsed": false,
    "pycharm": {
     "name": "#%%\n"
    }
   }
  },
  {
   "cell_type": "code",
   "execution_count": 9,
   "outputs": [
    {
     "data": {
      "text/plain": "0    1.0\n2    3.5\n4    8.0\ndtype: float64"
     },
     "execution_count": 9,
     "metadata": {},
     "output_type": "execute_result"
    }
   ],
   "source": [
    "data.dropna()"
   ],
   "metadata": {
    "collapsed": false,
    "pycharm": {
     "name": "#%%\n"
    }
   }
  },
  {
   "cell_type": "code",
   "execution_count": 12,
   "outputs": [],
   "source": [
    "data = pd.DataFrame([[1, 6.5, 3], [1, NA, NA], [NA, NA, NA], [NA, 6.5, 1]])"
   ],
   "metadata": {
    "collapsed": false,
    "pycharm": {
     "name": "#%%\n"
    }
   }
  },
  {
   "cell_type": "code",
   "execution_count": 13,
   "outputs": [
    {
     "data": {
      "text/plain": "     0    1    2\n0  1.0  6.5  3.0\n1  1.0  NaN  NaN\n2  NaN  NaN  NaN\n3  NaN  6.5  1.0",
      "text/html": "<div>\n<style scoped>\n    .dataframe tbody tr th:only-of-type {\n        vertical-align: middle;\n    }\n\n    .dataframe tbody tr th {\n        vertical-align: top;\n    }\n\n    .dataframe thead th {\n        text-align: right;\n    }\n</style>\n<table border=\"1\" class=\"dataframe\">\n  <thead>\n    <tr style=\"text-align: right;\">\n      <th></th>\n      <th>0</th>\n      <th>1</th>\n      <th>2</th>\n    </tr>\n  </thead>\n  <tbody>\n    <tr>\n      <th>0</th>\n      <td>1.0</td>\n      <td>6.5</td>\n      <td>3.0</td>\n    </tr>\n    <tr>\n      <th>1</th>\n      <td>1.0</td>\n      <td>NaN</td>\n      <td>NaN</td>\n    </tr>\n    <tr>\n      <th>2</th>\n      <td>NaN</td>\n      <td>NaN</td>\n      <td>NaN</td>\n    </tr>\n    <tr>\n      <th>3</th>\n      <td>NaN</td>\n      <td>6.5</td>\n      <td>1.0</td>\n    </tr>\n  </tbody>\n</table>\n</div>"
     },
     "execution_count": 13,
     "metadata": {},
     "output_type": "execute_result"
    }
   ],
   "source": [
    "data"
   ],
   "metadata": {
    "collapsed": false,
    "pycharm": {
     "name": "#%%\n"
    }
   }
  },
  {
   "cell_type": "code",
   "execution_count": 14,
   "outputs": [
    {
     "data": {
      "text/plain": "     0    1    2\n0  1.0  6.5  3.0",
      "text/html": "<div>\n<style scoped>\n    .dataframe tbody tr th:only-of-type {\n        vertical-align: middle;\n    }\n\n    .dataframe tbody tr th {\n        vertical-align: top;\n    }\n\n    .dataframe thead th {\n        text-align: right;\n    }\n</style>\n<table border=\"1\" class=\"dataframe\">\n  <thead>\n    <tr style=\"text-align: right;\">\n      <th></th>\n      <th>0</th>\n      <th>1</th>\n      <th>2</th>\n    </tr>\n  </thead>\n  <tbody>\n    <tr>\n      <th>0</th>\n      <td>1.0</td>\n      <td>6.5</td>\n      <td>3.0</td>\n    </tr>\n  </tbody>\n</table>\n</div>"
     },
     "execution_count": 14,
     "metadata": {},
     "output_type": "execute_result"
    }
   ],
   "source": [
    "data.dropna()"
   ],
   "metadata": {
    "collapsed": false,
    "pycharm": {
     "name": "#%%\n"
    }
   }
  },
  {
   "cell_type": "code",
   "execution_count": 15,
   "outputs": [
    {
     "data": {
      "text/plain": "     0    1    2\n0  1.0  6.5  3.0\n1  1.0  NaN  NaN\n3  NaN  6.5  1.0",
      "text/html": "<div>\n<style scoped>\n    .dataframe tbody tr th:only-of-type {\n        vertical-align: middle;\n    }\n\n    .dataframe tbody tr th {\n        vertical-align: top;\n    }\n\n    .dataframe thead th {\n        text-align: right;\n    }\n</style>\n<table border=\"1\" class=\"dataframe\">\n  <thead>\n    <tr style=\"text-align: right;\">\n      <th></th>\n      <th>0</th>\n      <th>1</th>\n      <th>2</th>\n    </tr>\n  </thead>\n  <tbody>\n    <tr>\n      <th>0</th>\n      <td>1.0</td>\n      <td>6.5</td>\n      <td>3.0</td>\n    </tr>\n    <tr>\n      <th>1</th>\n      <td>1.0</td>\n      <td>NaN</td>\n      <td>NaN</td>\n    </tr>\n    <tr>\n      <th>3</th>\n      <td>NaN</td>\n      <td>6.5</td>\n      <td>1.0</td>\n    </tr>\n  </tbody>\n</table>\n</div>"
     },
     "execution_count": 15,
     "metadata": {},
     "output_type": "execute_result"
    }
   ],
   "source": [
    "data.dropna(how='all')"
   ],
   "metadata": {
    "collapsed": false,
    "pycharm": {
     "name": "#%%\n"
    }
   }
  },
  {
   "cell_type": "code",
   "execution_count": 16,
   "outputs": [
    {
     "data": {
      "text/plain": "Empty DataFrame\nColumns: []\nIndex: [0, 1, 2, 3]",
      "text/html": "<div>\n<style scoped>\n    .dataframe tbody tr th:only-of-type {\n        vertical-align: middle;\n    }\n\n    .dataframe tbody tr th {\n        vertical-align: top;\n    }\n\n    .dataframe thead th {\n        text-align: right;\n    }\n</style>\n<table border=\"1\" class=\"dataframe\">\n  <thead>\n    <tr style=\"text-align: right;\">\n      <th></th>\n    </tr>\n  </thead>\n  <tbody>\n    <tr>\n      <th>0</th>\n    </tr>\n    <tr>\n      <th>1</th>\n    </tr>\n    <tr>\n      <th>2</th>\n    </tr>\n    <tr>\n      <th>3</th>\n    </tr>\n  </tbody>\n</table>\n</div>"
     },
     "execution_count": 16,
     "metadata": {},
     "output_type": "execute_result"
    }
   ],
   "source": [
    "data.dropna(axis=1)"
   ],
   "metadata": {
    "collapsed": false,
    "pycharm": {
     "name": "#%%\n"
    }
   }
  },
  {
   "cell_type": "code",
   "execution_count": 17,
   "outputs": [
    {
     "data": {
      "text/plain": "     0    1    2\n0  1.0  6.5  3.0\n1  1.0  NaN  NaN\n2  NaN  NaN  NaN\n3  NaN  6.5  1.0",
      "text/html": "<div>\n<style scoped>\n    .dataframe tbody tr th:only-of-type {\n        vertical-align: middle;\n    }\n\n    .dataframe tbody tr th {\n        vertical-align: top;\n    }\n\n    .dataframe thead th {\n        text-align: right;\n    }\n</style>\n<table border=\"1\" class=\"dataframe\">\n  <thead>\n    <tr style=\"text-align: right;\">\n      <th></th>\n      <th>0</th>\n      <th>1</th>\n      <th>2</th>\n    </tr>\n  </thead>\n  <tbody>\n    <tr>\n      <th>0</th>\n      <td>1.0</td>\n      <td>6.5</td>\n      <td>3.0</td>\n    </tr>\n    <tr>\n      <th>1</th>\n      <td>1.0</td>\n      <td>NaN</td>\n      <td>NaN</td>\n    </tr>\n    <tr>\n      <th>2</th>\n      <td>NaN</td>\n      <td>NaN</td>\n      <td>NaN</td>\n    </tr>\n    <tr>\n      <th>3</th>\n      <td>NaN</td>\n      <td>6.5</td>\n      <td>1.0</td>\n    </tr>\n  </tbody>\n</table>\n</div>"
     },
     "execution_count": 17,
     "metadata": {},
     "output_type": "execute_result"
    }
   ],
   "source": [
    "data"
   ],
   "metadata": {
    "collapsed": false,
    "pycharm": {
     "name": "#%%\n"
    }
   }
  },
  {
   "cell_type": "code",
   "execution_count": 18,
   "outputs": [
    {
     "data": {
      "text/plain": "     0    1    2\n0  1.0  6.5  3.0\n1  1.0  NaN  NaN\n2  NaN  NaN  NaN\n3  NaN  6.5  1.0",
      "text/html": "<div>\n<style scoped>\n    .dataframe tbody tr th:only-of-type {\n        vertical-align: middle;\n    }\n\n    .dataframe tbody tr th {\n        vertical-align: top;\n    }\n\n    .dataframe thead th {\n        text-align: right;\n    }\n</style>\n<table border=\"1\" class=\"dataframe\">\n  <thead>\n    <tr style=\"text-align: right;\">\n      <th></th>\n      <th>0</th>\n      <th>1</th>\n      <th>2</th>\n    </tr>\n  </thead>\n  <tbody>\n    <tr>\n      <th>0</th>\n      <td>1.0</td>\n      <td>6.5</td>\n      <td>3.0</td>\n    </tr>\n    <tr>\n      <th>1</th>\n      <td>1.0</td>\n      <td>NaN</td>\n      <td>NaN</td>\n    </tr>\n    <tr>\n      <th>2</th>\n      <td>NaN</td>\n      <td>NaN</td>\n      <td>NaN</td>\n    </tr>\n    <tr>\n      <th>3</th>\n      <td>NaN</td>\n      <td>6.5</td>\n      <td>1.0</td>\n    </tr>\n  </tbody>\n</table>\n</div>"
     },
     "execution_count": 18,
     "metadata": {},
     "output_type": "execute_result"
    }
   ],
   "source": [
    "data.dropna(axis=1, how='all')"
   ],
   "metadata": {
    "collapsed": false,
    "pycharm": {
     "name": "#%%\n"
    }
   }
  },
  {
   "cell_type": "code",
   "execution_count": 19,
   "outputs": [],
   "source": [
    "df = pd.DataFrame(np.random.randn(7, 3))"
   ],
   "metadata": {
    "collapsed": false,
    "pycharm": {
     "name": "#%%\n"
    }
   }
  },
  {
   "cell_type": "code",
   "execution_count": 20,
   "outputs": [
    {
     "data": {
      "text/plain": "          0         1         2\n0  0.706658 -0.095881  0.718754\n1  0.884763  0.309745 -0.058123\n2  0.647373  1.326629 -1.189512\n3 -0.752230 -0.594687  0.069692\n4  0.023801 -0.719244 -0.882473\n5 -0.749476  0.117948  0.558784\n6  0.742058  0.064887 -1.352671",
      "text/html": "<div>\n<style scoped>\n    .dataframe tbody tr th:only-of-type {\n        vertical-align: middle;\n    }\n\n    .dataframe tbody tr th {\n        vertical-align: top;\n    }\n\n    .dataframe thead th {\n        text-align: right;\n    }\n</style>\n<table border=\"1\" class=\"dataframe\">\n  <thead>\n    <tr style=\"text-align: right;\">\n      <th></th>\n      <th>0</th>\n      <th>1</th>\n      <th>2</th>\n    </tr>\n  </thead>\n  <tbody>\n    <tr>\n      <th>0</th>\n      <td>0.706658</td>\n      <td>-0.095881</td>\n      <td>0.718754</td>\n    </tr>\n    <tr>\n      <th>1</th>\n      <td>0.884763</td>\n      <td>0.309745</td>\n      <td>-0.058123</td>\n    </tr>\n    <tr>\n      <th>2</th>\n      <td>0.647373</td>\n      <td>1.326629</td>\n      <td>-1.189512</td>\n    </tr>\n    <tr>\n      <th>3</th>\n      <td>-0.752230</td>\n      <td>-0.594687</td>\n      <td>0.069692</td>\n    </tr>\n    <tr>\n      <th>4</th>\n      <td>0.023801</td>\n      <td>-0.719244</td>\n      <td>-0.882473</td>\n    </tr>\n    <tr>\n      <th>5</th>\n      <td>-0.749476</td>\n      <td>0.117948</td>\n      <td>0.558784</td>\n    </tr>\n    <tr>\n      <th>6</th>\n      <td>0.742058</td>\n      <td>0.064887</td>\n      <td>-1.352671</td>\n    </tr>\n  </tbody>\n</table>\n</div>"
     },
     "execution_count": 20,
     "metadata": {},
     "output_type": "execute_result"
    }
   ],
   "source": [
    "df"
   ],
   "metadata": {
    "collapsed": false,
    "pycharm": {
     "name": "#%%\n"
    }
   }
  },
  {
   "cell_type": "code",
   "execution_count": 21,
   "outputs": [],
   "source": [
    "df.iloc[:4, 1] = NA\n",
    "df.iloc[:2, 2] = NA"
   ],
   "metadata": {
    "collapsed": false,
    "pycharm": {
     "name": "#%%\n"
    }
   }
  },
  {
   "cell_type": "code",
   "execution_count": 22,
   "outputs": [
    {
     "data": {
      "text/plain": "          0         1         2\n0  0.706658       NaN       NaN\n1  0.884763       NaN       NaN\n2  0.647373       NaN -1.189512\n3 -0.752230       NaN  0.069692\n4  0.023801 -0.719244 -0.882473\n5 -0.749476  0.117948  0.558784\n6  0.742058  0.064887 -1.352671",
      "text/html": "<div>\n<style scoped>\n    .dataframe tbody tr th:only-of-type {\n        vertical-align: middle;\n    }\n\n    .dataframe tbody tr th {\n        vertical-align: top;\n    }\n\n    .dataframe thead th {\n        text-align: right;\n    }\n</style>\n<table border=\"1\" class=\"dataframe\">\n  <thead>\n    <tr style=\"text-align: right;\">\n      <th></th>\n      <th>0</th>\n      <th>1</th>\n      <th>2</th>\n    </tr>\n  </thead>\n  <tbody>\n    <tr>\n      <th>0</th>\n      <td>0.706658</td>\n      <td>NaN</td>\n      <td>NaN</td>\n    </tr>\n    <tr>\n      <th>1</th>\n      <td>0.884763</td>\n      <td>NaN</td>\n      <td>NaN</td>\n    </tr>\n    <tr>\n      <th>2</th>\n      <td>0.647373</td>\n      <td>NaN</td>\n      <td>-1.189512</td>\n    </tr>\n    <tr>\n      <th>3</th>\n      <td>-0.752230</td>\n      <td>NaN</td>\n      <td>0.069692</td>\n    </tr>\n    <tr>\n      <th>4</th>\n      <td>0.023801</td>\n      <td>-0.719244</td>\n      <td>-0.882473</td>\n    </tr>\n    <tr>\n      <th>5</th>\n      <td>-0.749476</td>\n      <td>0.117948</td>\n      <td>0.558784</td>\n    </tr>\n    <tr>\n      <th>6</th>\n      <td>0.742058</td>\n      <td>0.064887</td>\n      <td>-1.352671</td>\n    </tr>\n  </tbody>\n</table>\n</div>"
     },
     "execution_count": 22,
     "metadata": {},
     "output_type": "execute_result"
    }
   ],
   "source": [
    "df"
   ],
   "metadata": {
    "collapsed": false,
    "pycharm": {
     "name": "#%%\n"
    }
   }
  },
  {
   "cell_type": "code",
   "execution_count": 23,
   "outputs": [
    {
     "data": {
      "text/plain": "          0         1         2\n4  0.023801 -0.719244 -0.882473\n5 -0.749476  0.117948  0.558784\n6  0.742058  0.064887 -1.352671",
      "text/html": "<div>\n<style scoped>\n    .dataframe tbody tr th:only-of-type {\n        vertical-align: middle;\n    }\n\n    .dataframe tbody tr th {\n        vertical-align: top;\n    }\n\n    .dataframe thead th {\n        text-align: right;\n    }\n</style>\n<table border=\"1\" class=\"dataframe\">\n  <thead>\n    <tr style=\"text-align: right;\">\n      <th></th>\n      <th>0</th>\n      <th>1</th>\n      <th>2</th>\n    </tr>\n  </thead>\n  <tbody>\n    <tr>\n      <th>4</th>\n      <td>0.023801</td>\n      <td>-0.719244</td>\n      <td>-0.882473</td>\n    </tr>\n    <tr>\n      <th>5</th>\n      <td>-0.749476</td>\n      <td>0.117948</td>\n      <td>0.558784</td>\n    </tr>\n    <tr>\n      <th>6</th>\n      <td>0.742058</td>\n      <td>0.064887</td>\n      <td>-1.352671</td>\n    </tr>\n  </tbody>\n</table>\n</div>"
     },
     "execution_count": 23,
     "metadata": {},
     "output_type": "execute_result"
    }
   ],
   "source": [
    "df.dropna()"
   ],
   "metadata": {
    "collapsed": false,
    "pycharm": {
     "name": "#%%\n"
    }
   }
  },
  {
   "cell_type": "code",
   "execution_count": 24,
   "outputs": [
    {
     "data": {
      "text/plain": "          0         1         2\n2  0.647373       NaN -1.189512\n3 -0.752230       NaN  0.069692\n4  0.023801 -0.719244 -0.882473\n5 -0.749476  0.117948  0.558784\n6  0.742058  0.064887 -1.352671",
      "text/html": "<div>\n<style scoped>\n    .dataframe tbody tr th:only-of-type {\n        vertical-align: middle;\n    }\n\n    .dataframe tbody tr th {\n        vertical-align: top;\n    }\n\n    .dataframe thead th {\n        text-align: right;\n    }\n</style>\n<table border=\"1\" class=\"dataframe\">\n  <thead>\n    <tr style=\"text-align: right;\">\n      <th></th>\n      <th>0</th>\n      <th>1</th>\n      <th>2</th>\n    </tr>\n  </thead>\n  <tbody>\n    <tr>\n      <th>2</th>\n      <td>0.647373</td>\n      <td>NaN</td>\n      <td>-1.189512</td>\n    </tr>\n    <tr>\n      <th>3</th>\n      <td>-0.752230</td>\n      <td>NaN</td>\n      <td>0.069692</td>\n    </tr>\n    <tr>\n      <th>4</th>\n      <td>0.023801</td>\n      <td>-0.719244</td>\n      <td>-0.882473</td>\n    </tr>\n    <tr>\n      <th>5</th>\n      <td>-0.749476</td>\n      <td>0.117948</td>\n      <td>0.558784</td>\n    </tr>\n    <tr>\n      <th>6</th>\n      <td>0.742058</td>\n      <td>0.064887</td>\n      <td>-1.352671</td>\n    </tr>\n  </tbody>\n</table>\n</div>"
     },
     "execution_count": 24,
     "metadata": {},
     "output_type": "execute_result"
    }
   ],
   "source": [
    "df.dropna(thresh=2)"
   ],
   "metadata": {
    "collapsed": false,
    "pycharm": {
     "name": "#%%\n"
    }
   }
  },
  {
   "cell_type": "code",
   "execution_count": 26,
   "outputs": [
    {
     "data": {
      "text/plain": "          0         1         2\n0  0.706658  0.500000  0.000000\n1  0.884763  0.500000  0.000000\n2  0.647373  0.500000 -1.189512\n3 -0.752230  0.500000  0.069692\n4  0.023801 -0.719244 -0.882473\n5 -0.749476  0.117948  0.558784\n6  0.742058  0.064887 -1.352671",
      "text/html": "<div>\n<style scoped>\n    .dataframe tbody tr th:only-of-type {\n        vertical-align: middle;\n    }\n\n    .dataframe tbody tr th {\n        vertical-align: top;\n    }\n\n    .dataframe thead th {\n        text-align: right;\n    }\n</style>\n<table border=\"1\" class=\"dataframe\">\n  <thead>\n    <tr style=\"text-align: right;\">\n      <th></th>\n      <th>0</th>\n      <th>1</th>\n      <th>2</th>\n    </tr>\n  </thead>\n  <tbody>\n    <tr>\n      <th>0</th>\n      <td>0.706658</td>\n      <td>0.500000</td>\n      <td>0.000000</td>\n    </tr>\n    <tr>\n      <th>1</th>\n      <td>0.884763</td>\n      <td>0.500000</td>\n      <td>0.000000</td>\n    </tr>\n    <tr>\n      <th>2</th>\n      <td>0.647373</td>\n      <td>0.500000</td>\n      <td>-1.189512</td>\n    </tr>\n    <tr>\n      <th>3</th>\n      <td>-0.752230</td>\n      <td>0.500000</td>\n      <td>0.069692</td>\n    </tr>\n    <tr>\n      <th>4</th>\n      <td>0.023801</td>\n      <td>-0.719244</td>\n      <td>-0.882473</td>\n    </tr>\n    <tr>\n      <th>5</th>\n      <td>-0.749476</td>\n      <td>0.117948</td>\n      <td>0.558784</td>\n    </tr>\n    <tr>\n      <th>6</th>\n      <td>0.742058</td>\n      <td>0.064887</td>\n      <td>-1.352671</td>\n    </tr>\n  </tbody>\n</table>\n</div>"
     },
     "execution_count": 26,
     "metadata": {},
     "output_type": "execute_result"
    }
   ],
   "source": [
    "df.fillna({1: 0.5, 2: 0})"
   ],
   "metadata": {
    "collapsed": false,
    "pycharm": {
     "name": "#%%\n"
    }
   }
  },
  {
   "cell_type": "code",
   "execution_count": 27,
   "outputs": [],
   "source": [
    "_ = df.fillna(0, inplace=True)"
   ],
   "metadata": {
    "collapsed": false,
    "pycharm": {
     "name": "#%%\n"
    }
   }
  },
  {
   "cell_type": "code",
   "execution_count": 28,
   "outputs": [
    {
     "data": {
      "text/plain": "          0         1         2\n0  0.706658  0.000000  0.000000\n1  0.884763  0.000000  0.000000\n2  0.647373  0.000000 -1.189512\n3 -0.752230  0.000000  0.069692\n4  0.023801 -0.719244 -0.882473\n5 -0.749476  0.117948  0.558784\n6  0.742058  0.064887 -1.352671",
      "text/html": "<div>\n<style scoped>\n    .dataframe tbody tr th:only-of-type {\n        vertical-align: middle;\n    }\n\n    .dataframe tbody tr th {\n        vertical-align: top;\n    }\n\n    .dataframe thead th {\n        text-align: right;\n    }\n</style>\n<table border=\"1\" class=\"dataframe\">\n  <thead>\n    <tr style=\"text-align: right;\">\n      <th></th>\n      <th>0</th>\n      <th>1</th>\n      <th>2</th>\n    </tr>\n  </thead>\n  <tbody>\n    <tr>\n      <th>0</th>\n      <td>0.706658</td>\n      <td>0.000000</td>\n      <td>0.000000</td>\n    </tr>\n    <tr>\n      <th>1</th>\n      <td>0.884763</td>\n      <td>0.000000</td>\n      <td>0.000000</td>\n    </tr>\n    <tr>\n      <th>2</th>\n      <td>0.647373</td>\n      <td>0.000000</td>\n      <td>-1.189512</td>\n    </tr>\n    <tr>\n      <th>3</th>\n      <td>-0.752230</td>\n      <td>0.000000</td>\n      <td>0.069692</td>\n    </tr>\n    <tr>\n      <th>4</th>\n      <td>0.023801</td>\n      <td>-0.719244</td>\n      <td>-0.882473</td>\n    </tr>\n    <tr>\n      <th>5</th>\n      <td>-0.749476</td>\n      <td>0.117948</td>\n      <td>0.558784</td>\n    </tr>\n    <tr>\n      <th>6</th>\n      <td>0.742058</td>\n      <td>0.064887</td>\n      <td>-1.352671</td>\n    </tr>\n  </tbody>\n</table>\n</div>"
     },
     "execution_count": 28,
     "metadata": {},
     "output_type": "execute_result"
    }
   ],
   "source": [
    "df"
   ],
   "metadata": {
    "collapsed": false,
    "pycharm": {
     "name": "#%%\n"
    }
   }
  },
  {
   "cell_type": "code",
   "execution_count": 29,
   "outputs": [],
   "source": [
    "df = pd.DataFrame(np.random.randn(6, 3))"
   ],
   "metadata": {
    "collapsed": false,
    "pycharm": {
     "name": "#%%\n"
    }
   }
  },
  {
   "cell_type": "code",
   "execution_count": 30,
   "outputs": [
    {
     "data": {
      "text/plain": "          0         1         2\n0  0.396658  0.523204 -0.003273\n1  0.639943  0.247952 -2.909680\n2 -1.923978 -0.210197  1.322247\n3 -0.442195 -0.553813  0.742686\n4 -1.208262 -1.064146 -1.933621\n5 -0.389214 -0.411751 -0.141272",
      "text/html": "<div>\n<style scoped>\n    .dataframe tbody tr th:only-of-type {\n        vertical-align: middle;\n    }\n\n    .dataframe tbody tr th {\n        vertical-align: top;\n    }\n\n    .dataframe thead th {\n        text-align: right;\n    }\n</style>\n<table border=\"1\" class=\"dataframe\">\n  <thead>\n    <tr style=\"text-align: right;\">\n      <th></th>\n      <th>0</th>\n      <th>1</th>\n      <th>2</th>\n    </tr>\n  </thead>\n  <tbody>\n    <tr>\n      <th>0</th>\n      <td>0.396658</td>\n      <td>0.523204</td>\n      <td>-0.003273</td>\n    </tr>\n    <tr>\n      <th>1</th>\n      <td>0.639943</td>\n      <td>0.247952</td>\n      <td>-2.909680</td>\n    </tr>\n    <tr>\n      <th>2</th>\n      <td>-1.923978</td>\n      <td>-0.210197</td>\n      <td>1.322247</td>\n    </tr>\n    <tr>\n      <th>3</th>\n      <td>-0.442195</td>\n      <td>-0.553813</td>\n      <td>0.742686</td>\n    </tr>\n    <tr>\n      <th>4</th>\n      <td>-1.208262</td>\n      <td>-1.064146</td>\n      <td>-1.933621</td>\n    </tr>\n    <tr>\n      <th>5</th>\n      <td>-0.389214</td>\n      <td>-0.411751</td>\n      <td>-0.141272</td>\n    </tr>\n  </tbody>\n</table>\n</div>"
     },
     "execution_count": 30,
     "metadata": {},
     "output_type": "execute_result"
    }
   ],
   "source": [
    "df"
   ],
   "metadata": {
    "collapsed": false,
    "pycharm": {
     "name": "#%%\n"
    }
   }
  },
  {
   "cell_type": "code",
   "execution_count": 32,
   "outputs": [],
   "source": [
    "df.iloc[2:, 1] = NA"
   ],
   "metadata": {
    "collapsed": false,
    "pycharm": {
     "name": "#%%\n"
    }
   }
  },
  {
   "cell_type": "code",
   "execution_count": 33,
   "outputs": [],
   "source": [
    "df.iloc[4:, 2] = NA"
   ],
   "metadata": {
    "collapsed": false,
    "pycharm": {
     "name": "#%%\n"
    }
   }
  },
  {
   "cell_type": "code",
   "execution_count": 34,
   "outputs": [
    {
     "data": {
      "text/plain": "          0         1         2\n0  0.396658  0.523204 -0.003273\n1  0.639943  0.247952 -2.909680\n2 -1.923978       NaN  1.322247\n3 -0.442195       NaN  0.742686\n4 -1.208262       NaN       NaN\n5 -0.389214       NaN       NaN",
      "text/html": "<div>\n<style scoped>\n    .dataframe tbody tr th:only-of-type {\n        vertical-align: middle;\n    }\n\n    .dataframe tbody tr th {\n        vertical-align: top;\n    }\n\n    .dataframe thead th {\n        text-align: right;\n    }\n</style>\n<table border=\"1\" class=\"dataframe\">\n  <thead>\n    <tr style=\"text-align: right;\">\n      <th></th>\n      <th>0</th>\n      <th>1</th>\n      <th>2</th>\n    </tr>\n  </thead>\n  <tbody>\n    <tr>\n      <th>0</th>\n      <td>0.396658</td>\n      <td>0.523204</td>\n      <td>-0.003273</td>\n    </tr>\n    <tr>\n      <th>1</th>\n      <td>0.639943</td>\n      <td>0.247952</td>\n      <td>-2.909680</td>\n    </tr>\n    <tr>\n      <th>2</th>\n      <td>-1.923978</td>\n      <td>NaN</td>\n      <td>1.322247</td>\n    </tr>\n    <tr>\n      <th>3</th>\n      <td>-0.442195</td>\n      <td>NaN</td>\n      <td>0.742686</td>\n    </tr>\n    <tr>\n      <th>4</th>\n      <td>-1.208262</td>\n      <td>NaN</td>\n      <td>NaN</td>\n    </tr>\n    <tr>\n      <th>5</th>\n      <td>-0.389214</td>\n      <td>NaN</td>\n      <td>NaN</td>\n    </tr>\n  </tbody>\n</table>\n</div>"
     },
     "execution_count": 34,
     "metadata": {},
     "output_type": "execute_result"
    }
   ],
   "source": [
    "df"
   ],
   "metadata": {
    "collapsed": false,
    "pycharm": {
     "name": "#%%\n"
    }
   }
  },
  {
   "cell_type": "code",
   "execution_count": 35,
   "outputs": [
    {
     "data": {
      "text/plain": "          0         1         2\n0  0.396658  0.523204 -0.003273\n1  0.639943  0.247952 -2.909680\n2 -1.923978  0.247952  1.322247\n3 -0.442195  0.247952  0.742686\n4 -1.208262  0.247952  0.742686\n5 -0.389214  0.247952  0.742686",
      "text/html": "<div>\n<style scoped>\n    .dataframe tbody tr th:only-of-type {\n        vertical-align: middle;\n    }\n\n    .dataframe tbody tr th {\n        vertical-align: top;\n    }\n\n    .dataframe thead th {\n        text-align: right;\n    }\n</style>\n<table border=\"1\" class=\"dataframe\">\n  <thead>\n    <tr style=\"text-align: right;\">\n      <th></th>\n      <th>0</th>\n      <th>1</th>\n      <th>2</th>\n    </tr>\n  </thead>\n  <tbody>\n    <tr>\n      <th>0</th>\n      <td>0.396658</td>\n      <td>0.523204</td>\n      <td>-0.003273</td>\n    </tr>\n    <tr>\n      <th>1</th>\n      <td>0.639943</td>\n      <td>0.247952</td>\n      <td>-2.909680</td>\n    </tr>\n    <tr>\n      <th>2</th>\n      <td>-1.923978</td>\n      <td>0.247952</td>\n      <td>1.322247</td>\n    </tr>\n    <tr>\n      <th>3</th>\n      <td>-0.442195</td>\n      <td>0.247952</td>\n      <td>0.742686</td>\n    </tr>\n    <tr>\n      <th>4</th>\n      <td>-1.208262</td>\n      <td>0.247952</td>\n      <td>0.742686</td>\n    </tr>\n    <tr>\n      <th>5</th>\n      <td>-0.389214</td>\n      <td>0.247952</td>\n      <td>0.742686</td>\n    </tr>\n  </tbody>\n</table>\n</div>"
     },
     "execution_count": 35,
     "metadata": {},
     "output_type": "execute_result"
    }
   ],
   "source": [
    "df.fillna(method='ffill')"
   ],
   "metadata": {
    "collapsed": false,
    "pycharm": {
     "name": "#%%\n"
    }
   }
  },
  {
   "cell_type": "code",
   "execution_count": 36,
   "outputs": [
    {
     "data": {
      "text/plain": "          0         1         2\n0  0.396658  0.523204 -0.003273\n1  0.639943  0.247952 -2.909680\n2 -1.923978  0.247952  1.322247\n3 -0.442195  0.247952  0.742686\n4 -1.208262       NaN  0.742686\n5 -0.389214       NaN  0.742686",
      "text/html": "<div>\n<style scoped>\n    .dataframe tbody tr th:only-of-type {\n        vertical-align: middle;\n    }\n\n    .dataframe tbody tr th {\n        vertical-align: top;\n    }\n\n    .dataframe thead th {\n        text-align: right;\n    }\n</style>\n<table border=\"1\" class=\"dataframe\">\n  <thead>\n    <tr style=\"text-align: right;\">\n      <th></th>\n      <th>0</th>\n      <th>1</th>\n      <th>2</th>\n    </tr>\n  </thead>\n  <tbody>\n    <tr>\n      <th>0</th>\n      <td>0.396658</td>\n      <td>0.523204</td>\n      <td>-0.003273</td>\n    </tr>\n    <tr>\n      <th>1</th>\n      <td>0.639943</td>\n      <td>0.247952</td>\n      <td>-2.909680</td>\n    </tr>\n    <tr>\n      <th>2</th>\n      <td>-1.923978</td>\n      <td>0.247952</td>\n      <td>1.322247</td>\n    </tr>\n    <tr>\n      <th>3</th>\n      <td>-0.442195</td>\n      <td>0.247952</td>\n      <td>0.742686</td>\n    </tr>\n    <tr>\n      <th>4</th>\n      <td>-1.208262</td>\n      <td>NaN</td>\n      <td>0.742686</td>\n    </tr>\n    <tr>\n      <th>5</th>\n      <td>-0.389214</td>\n      <td>NaN</td>\n      <td>0.742686</td>\n    </tr>\n  </tbody>\n</table>\n</div>"
     },
     "execution_count": 36,
     "metadata": {},
     "output_type": "execute_result"
    }
   ],
   "source": [
    "df.fillna(method='ffill', limit=2)"
   ],
   "metadata": {
    "collapsed": false,
    "pycharm": {
     "name": "#%%\n"
    }
   }
  },
  {
   "cell_type": "code",
   "execution_count": 37,
   "outputs": [],
   "source": [
    "data = pd.Series([1, NA, 3.5, NA, 7])"
   ],
   "metadata": {
    "collapsed": false,
    "pycharm": {
     "name": "#%%\n"
    }
   }
  },
  {
   "cell_type": "code",
   "execution_count": 38,
   "outputs": [
    {
     "data": {
      "text/plain": "0    1.000000\n1    3.833333\n2    3.500000\n3    3.833333\n4    7.000000\ndtype: float64"
     },
     "execution_count": 38,
     "metadata": {},
     "output_type": "execute_result"
    }
   ],
   "source": [
    "data.fillna(data.mean())"
   ],
   "metadata": {
    "collapsed": false,
    "pycharm": {
     "name": "#%%\n"
    }
   }
  },
  {
   "cell_type": "code",
   "execution_count": 39,
   "outputs": [],
   "source": [
    "# 7.2 数据转换\n",
    "data = pd.DataFrame({'k1': ['one', 'two'] * 3 + ['two'], 'k2': [1, 1, 2, 3, 3, 4, 4]})"
   ],
   "metadata": {
    "collapsed": false,
    "pycharm": {
     "name": "#%%\n"
    }
   }
  },
  {
   "cell_type": "code",
   "execution_count": 40,
   "outputs": [
    {
     "data": {
      "text/plain": "    k1  k2\n0  one   1\n1  two   1\n2  one   2\n3  two   3\n4  one   3\n5  two   4\n6  two   4",
      "text/html": "<div>\n<style scoped>\n    .dataframe tbody tr th:only-of-type {\n        vertical-align: middle;\n    }\n\n    .dataframe tbody tr th {\n        vertical-align: top;\n    }\n\n    .dataframe thead th {\n        text-align: right;\n    }\n</style>\n<table border=\"1\" class=\"dataframe\">\n  <thead>\n    <tr style=\"text-align: right;\">\n      <th></th>\n      <th>k1</th>\n      <th>k2</th>\n    </tr>\n  </thead>\n  <tbody>\n    <tr>\n      <th>0</th>\n      <td>one</td>\n      <td>1</td>\n    </tr>\n    <tr>\n      <th>1</th>\n      <td>two</td>\n      <td>1</td>\n    </tr>\n    <tr>\n      <th>2</th>\n      <td>one</td>\n      <td>2</td>\n    </tr>\n    <tr>\n      <th>3</th>\n      <td>two</td>\n      <td>3</td>\n    </tr>\n    <tr>\n      <th>4</th>\n      <td>one</td>\n      <td>3</td>\n    </tr>\n    <tr>\n      <th>5</th>\n      <td>two</td>\n      <td>4</td>\n    </tr>\n    <tr>\n      <th>6</th>\n      <td>two</td>\n      <td>4</td>\n    </tr>\n  </tbody>\n</table>\n</div>"
     },
     "execution_count": 40,
     "metadata": {},
     "output_type": "execute_result"
    }
   ],
   "source": [
    "data"
   ],
   "metadata": {
    "collapsed": false,
    "pycharm": {
     "name": "#%%\n"
    }
   }
  },
  {
   "cell_type": "code",
   "execution_count": 41,
   "outputs": [
    {
     "data": {
      "text/plain": "0    False\n1    False\n2    False\n3    False\n4    False\n5    False\n6     True\ndtype: bool"
     },
     "execution_count": 41,
     "metadata": {},
     "output_type": "execute_result"
    }
   ],
   "source": [
    "data.duplicated()"
   ],
   "metadata": {
    "collapsed": false,
    "pycharm": {
     "name": "#%%\n"
    }
   }
  },
  {
   "cell_type": "code",
   "execution_count": 42,
   "outputs": [
    {
     "data": {
      "text/plain": "    k1  k2\n0  one   1\n1  two   1\n2  one   2\n3  two   3\n4  one   3\n5  two   4",
      "text/html": "<div>\n<style scoped>\n    .dataframe tbody tr th:only-of-type {\n        vertical-align: middle;\n    }\n\n    .dataframe tbody tr th {\n        vertical-align: top;\n    }\n\n    .dataframe thead th {\n        text-align: right;\n    }\n</style>\n<table border=\"1\" class=\"dataframe\">\n  <thead>\n    <tr style=\"text-align: right;\">\n      <th></th>\n      <th>k1</th>\n      <th>k2</th>\n    </tr>\n  </thead>\n  <tbody>\n    <tr>\n      <th>0</th>\n      <td>one</td>\n      <td>1</td>\n    </tr>\n    <tr>\n      <th>1</th>\n      <td>two</td>\n      <td>1</td>\n    </tr>\n    <tr>\n      <th>2</th>\n      <td>one</td>\n      <td>2</td>\n    </tr>\n    <tr>\n      <th>3</th>\n      <td>two</td>\n      <td>3</td>\n    </tr>\n    <tr>\n      <th>4</th>\n      <td>one</td>\n      <td>3</td>\n    </tr>\n    <tr>\n      <th>5</th>\n      <td>two</td>\n      <td>4</td>\n    </tr>\n  </tbody>\n</table>\n</div>"
     },
     "execution_count": 42,
     "metadata": {},
     "output_type": "execute_result"
    }
   ],
   "source": [
    "data.drop_duplicates()"
   ],
   "metadata": {
    "collapsed": false,
    "pycharm": {
     "name": "#%%\n"
    }
   }
  },
  {
   "cell_type": "code",
   "execution_count": 43,
   "outputs": [],
   "source": [
    "data['v1'] = range(7)"
   ],
   "metadata": {
    "collapsed": false,
    "pycharm": {
     "name": "#%%\n"
    }
   }
  },
  {
   "cell_type": "code",
   "execution_count": 44,
   "outputs": [
    {
     "data": {
      "text/plain": "    k1  k2  v1\n0  one   1   0\n1  two   1   1\n2  one   2   2\n3  two   3   3\n4  one   3   4\n5  two   4   5\n6  two   4   6",
      "text/html": "<div>\n<style scoped>\n    .dataframe tbody tr th:only-of-type {\n        vertical-align: middle;\n    }\n\n    .dataframe tbody tr th {\n        vertical-align: top;\n    }\n\n    .dataframe thead th {\n        text-align: right;\n    }\n</style>\n<table border=\"1\" class=\"dataframe\">\n  <thead>\n    <tr style=\"text-align: right;\">\n      <th></th>\n      <th>k1</th>\n      <th>k2</th>\n      <th>v1</th>\n    </tr>\n  </thead>\n  <tbody>\n    <tr>\n      <th>0</th>\n      <td>one</td>\n      <td>1</td>\n      <td>0</td>\n    </tr>\n    <tr>\n      <th>1</th>\n      <td>two</td>\n      <td>1</td>\n      <td>1</td>\n    </tr>\n    <tr>\n      <th>2</th>\n      <td>one</td>\n      <td>2</td>\n      <td>2</td>\n    </tr>\n    <tr>\n      <th>3</th>\n      <td>two</td>\n      <td>3</td>\n      <td>3</td>\n    </tr>\n    <tr>\n      <th>4</th>\n      <td>one</td>\n      <td>3</td>\n      <td>4</td>\n    </tr>\n    <tr>\n      <th>5</th>\n      <td>two</td>\n      <td>4</td>\n      <td>5</td>\n    </tr>\n    <tr>\n      <th>6</th>\n      <td>two</td>\n      <td>4</td>\n      <td>6</td>\n    </tr>\n  </tbody>\n</table>\n</div>"
     },
     "execution_count": 44,
     "metadata": {},
     "output_type": "execute_result"
    }
   ],
   "source": [
    "data"
   ],
   "metadata": {
    "collapsed": false,
    "pycharm": {
     "name": "#%%\n"
    }
   }
  },
  {
   "cell_type": "code",
   "execution_count": 45,
   "outputs": [
    {
     "data": {
      "text/plain": "    k1  k2  v1\n0  one   1   0\n1  two   1   1",
      "text/html": "<div>\n<style scoped>\n    .dataframe tbody tr th:only-of-type {\n        vertical-align: middle;\n    }\n\n    .dataframe tbody tr th {\n        vertical-align: top;\n    }\n\n    .dataframe thead th {\n        text-align: right;\n    }\n</style>\n<table border=\"1\" class=\"dataframe\">\n  <thead>\n    <tr style=\"text-align: right;\">\n      <th></th>\n      <th>k1</th>\n      <th>k2</th>\n      <th>v1</th>\n    </tr>\n  </thead>\n  <tbody>\n    <tr>\n      <th>0</th>\n      <td>one</td>\n      <td>1</td>\n      <td>0</td>\n    </tr>\n    <tr>\n      <th>1</th>\n      <td>two</td>\n      <td>1</td>\n      <td>1</td>\n    </tr>\n  </tbody>\n</table>\n</div>"
     },
     "execution_count": 45,
     "metadata": {},
     "output_type": "execute_result"
    }
   ],
   "source": [
    "data.drop_duplicates(['k1'])"
   ],
   "metadata": {
    "collapsed": false,
    "pycharm": {
     "name": "#%%\n"
    }
   }
  },
  {
   "cell_type": "code",
   "execution_count": 46,
   "outputs": [
    {
     "data": {
      "text/plain": "    k1  k2  v1\n0  one   1   0\n1  two   1   1\n2  one   2   2\n3  two   3   3\n4  one   3   4\n6  two   4   6",
      "text/html": "<div>\n<style scoped>\n    .dataframe tbody tr th:only-of-type {\n        vertical-align: middle;\n    }\n\n    .dataframe tbody tr th {\n        vertical-align: top;\n    }\n\n    .dataframe thead th {\n        text-align: right;\n    }\n</style>\n<table border=\"1\" class=\"dataframe\">\n  <thead>\n    <tr style=\"text-align: right;\">\n      <th></th>\n      <th>k1</th>\n      <th>k2</th>\n      <th>v1</th>\n    </tr>\n  </thead>\n  <tbody>\n    <tr>\n      <th>0</th>\n      <td>one</td>\n      <td>1</td>\n      <td>0</td>\n    </tr>\n    <tr>\n      <th>1</th>\n      <td>two</td>\n      <td>1</td>\n      <td>1</td>\n    </tr>\n    <tr>\n      <th>2</th>\n      <td>one</td>\n      <td>2</td>\n      <td>2</td>\n    </tr>\n    <tr>\n      <th>3</th>\n      <td>two</td>\n      <td>3</td>\n      <td>3</td>\n    </tr>\n    <tr>\n      <th>4</th>\n      <td>one</td>\n      <td>3</td>\n      <td>4</td>\n    </tr>\n    <tr>\n      <th>6</th>\n      <td>two</td>\n      <td>4</td>\n      <td>6</td>\n    </tr>\n  </tbody>\n</table>\n</div>"
     },
     "execution_count": 46,
     "metadata": {},
     "output_type": "execute_result"
    }
   ],
   "source": [
    "data.drop_duplicates(['k1', 'k2'], keep='last')"
   ],
   "metadata": {
    "collapsed": false,
    "pycharm": {
     "name": "#%%\n"
    }
   }
  },
  {
   "cell_type": "code",
   "execution_count": 48,
   "outputs": [
    {
     "data": {
      "text/plain": "          food  ounces\n0        bacon     4.0\n1  pulled pord     3.0\n2        bacon    12.0\n3     Pastrami     6.0\n4  corned beef     7.5\n5        Bacon     8.0\n6     pastrami     3.0\n7    honey ham     5.0\n8     nova lox     6.0",
      "text/html": "<div>\n<style scoped>\n    .dataframe tbody tr th:only-of-type {\n        vertical-align: middle;\n    }\n\n    .dataframe tbody tr th {\n        vertical-align: top;\n    }\n\n    .dataframe thead th {\n        text-align: right;\n    }\n</style>\n<table border=\"1\" class=\"dataframe\">\n  <thead>\n    <tr style=\"text-align: right;\">\n      <th></th>\n      <th>food</th>\n      <th>ounces</th>\n    </tr>\n  </thead>\n  <tbody>\n    <tr>\n      <th>0</th>\n      <td>bacon</td>\n      <td>4.0</td>\n    </tr>\n    <tr>\n      <th>1</th>\n      <td>pulled pord</td>\n      <td>3.0</td>\n    </tr>\n    <tr>\n      <th>2</th>\n      <td>bacon</td>\n      <td>12.0</td>\n    </tr>\n    <tr>\n      <th>3</th>\n      <td>Pastrami</td>\n      <td>6.0</td>\n    </tr>\n    <tr>\n      <th>4</th>\n      <td>corned beef</td>\n      <td>7.5</td>\n    </tr>\n    <tr>\n      <th>5</th>\n      <td>Bacon</td>\n      <td>8.0</td>\n    </tr>\n    <tr>\n      <th>6</th>\n      <td>pastrami</td>\n      <td>3.0</td>\n    </tr>\n    <tr>\n      <th>7</th>\n      <td>honey ham</td>\n      <td>5.0</td>\n    </tr>\n    <tr>\n      <th>8</th>\n      <td>nova lox</td>\n      <td>6.0</td>\n    </tr>\n  </tbody>\n</table>\n</div>"
     },
     "execution_count": 48,
     "metadata": {},
     "output_type": "execute_result"
    }
   ],
   "source": [
    "# 利用函数或映射进行数据转换\n",
    "data = pd.DataFrame(\n",
    "    {'food': ['bacon', 'pulled pord', 'bacon', 'Pastrami', 'corned beef', 'Bacon', 'pastrami', 'honey ham', 'nova lox'],\n",
    "     'ounces': [4, 3, 12, 6, 7.5, 8, 3, 5, 6]})\n",
    "data"
   ],
   "metadata": {
    "collapsed": false,
    "pycharm": {
     "name": "#%%\n"
    }
   }
  },
  {
   "cell_type": "code",
   "execution_count": 56,
   "outputs": [],
   "source": [
    "# 添加一列，说明食物的来源\n",
    "meat_to_animal = {'bacon':'pig','pulled pord':'pig','pastrami':'cow','corned beef':'cow','honey ham':'pig','nova lox':'salmon'}"
   ],
   "metadata": {
    "collapsed": false,
    "pycharm": {
     "name": "#%%\n"
    }
   }
  },
  {
   "cell_type": "code",
   "execution_count": 57,
   "outputs": [
    {
     "data": {
      "text/plain": "{'bacon': 'pig',\n 'pulled pord': 'pig',\n 'pastrami': 'cow',\n 'corned beef': 'cow',\n 'honey ham': 'pig',\n 'nova lox': 'salmon'}"
     },
     "execution_count": 57,
     "metadata": {},
     "output_type": "execute_result"
    }
   ],
   "source": [
    "meat_to_animal"
   ],
   "metadata": {
    "collapsed": false,
    "pycharm": {
     "name": "#%%\n"
    }
   }
  },
  {
   "cell_type": "code",
   "execution_count": 58,
   "outputs": [],
   "source": [
    "lowercased = data['food'].str.lower()"
   ],
   "metadata": {
    "collapsed": false,
    "pycharm": {
     "name": "#%%\n"
    }
   }
  },
  {
   "cell_type": "code",
   "execution_count": 59,
   "outputs": [
    {
     "data": {
      "text/plain": "0          bacon\n1    pulled pord\n2          bacon\n3       pastrami\n4    corned beef\n5          bacon\n6       pastrami\n7      honey ham\n8       nova lox\nName: food, dtype: object"
     },
     "execution_count": 59,
     "metadata": {},
     "output_type": "execute_result"
    }
   ],
   "source": [
    "lowercased"
   ],
   "metadata": {
    "collapsed": false,
    "pycharm": {
     "name": "#%%\n"
    }
   }
  },
  {
   "cell_type": "code",
   "execution_count": 60,
   "outputs": [],
   "source": [
    "data['animal'] = lowercased.map(meat_to_animal)"
   ],
   "metadata": {
    "collapsed": false,
    "pycharm": {
     "name": "#%%\n"
    }
   }
  },
  {
   "cell_type": "code",
   "execution_count": 61,
   "outputs": [
    {
     "data": {
      "text/plain": "          food  ounces  animal\n0        bacon     4.0     pig\n1  pulled pord     3.0     pig\n2        bacon    12.0     pig\n3     Pastrami     6.0     cow\n4  corned beef     7.5     cow\n5        Bacon     8.0     pig\n6     pastrami     3.0     cow\n7    honey ham     5.0     pig\n8     nova lox     6.0  salmon",
      "text/html": "<div>\n<style scoped>\n    .dataframe tbody tr th:only-of-type {\n        vertical-align: middle;\n    }\n\n    .dataframe tbody tr th {\n        vertical-align: top;\n    }\n\n    .dataframe thead th {\n        text-align: right;\n    }\n</style>\n<table border=\"1\" class=\"dataframe\">\n  <thead>\n    <tr style=\"text-align: right;\">\n      <th></th>\n      <th>food</th>\n      <th>ounces</th>\n      <th>animal</th>\n    </tr>\n  </thead>\n  <tbody>\n    <tr>\n      <th>0</th>\n      <td>bacon</td>\n      <td>4.0</td>\n      <td>pig</td>\n    </tr>\n    <tr>\n      <th>1</th>\n      <td>pulled pord</td>\n      <td>3.0</td>\n      <td>pig</td>\n    </tr>\n    <tr>\n      <th>2</th>\n      <td>bacon</td>\n      <td>12.0</td>\n      <td>pig</td>\n    </tr>\n    <tr>\n      <th>3</th>\n      <td>Pastrami</td>\n      <td>6.0</td>\n      <td>cow</td>\n    </tr>\n    <tr>\n      <th>4</th>\n      <td>corned beef</td>\n      <td>7.5</td>\n      <td>cow</td>\n    </tr>\n    <tr>\n      <th>5</th>\n      <td>Bacon</td>\n      <td>8.0</td>\n      <td>pig</td>\n    </tr>\n    <tr>\n      <th>6</th>\n      <td>pastrami</td>\n      <td>3.0</td>\n      <td>cow</td>\n    </tr>\n    <tr>\n      <th>7</th>\n      <td>honey ham</td>\n      <td>5.0</td>\n      <td>pig</td>\n    </tr>\n    <tr>\n      <th>8</th>\n      <td>nova lox</td>\n      <td>6.0</td>\n      <td>salmon</td>\n    </tr>\n  </tbody>\n</table>\n</div>"
     },
     "execution_count": 61,
     "metadata": {},
     "output_type": "execute_result"
    }
   ],
   "source": [
    "data"
   ],
   "metadata": {
    "collapsed": false,
    "pycharm": {
     "name": "#%%\n"
    }
   }
  },
  {
   "cell_type": "code",
   "execution_count": 62,
   "outputs": [
    {
     "data": {
      "text/plain": "0       pig\n1       pig\n2       pig\n3       cow\n4       cow\n5       pig\n6       cow\n7       pig\n8    salmon\nName: food, dtype: object"
     },
     "execution_count": 62,
     "metadata": {},
     "output_type": "execute_result"
    }
   ],
   "source": [
    "# map函数是实现元素转换以及其他清理工作的便捷方式\n",
    "data['food'].map(lambda x:meat_to_animal[x.lower()])"
   ],
   "metadata": {
    "collapsed": false,
    "pycharm": {
     "name": "#%%\n"
    }
   }
  },
  {
   "cell_type": "code",
   "execution_count": 63,
   "outputs": [],
   "source": [
    "# replace\n",
    "data = pd.Series([1.,-999.,2.,-999.,-1000.,3.])"
   ],
   "metadata": {
    "collapsed": false,
    "pycharm": {
     "name": "#%%\n"
    }
   }
  },
  {
   "cell_type": "code",
   "execution_count": 64,
   "outputs": [
    {
     "data": {
      "text/plain": "0       1.0\n1    -999.0\n2       2.0\n3    -999.0\n4   -1000.0\n5       3.0\ndtype: float64"
     },
     "execution_count": 64,
     "metadata": {},
     "output_type": "execute_result"
    }
   ],
   "source": [
    "data"
   ],
   "metadata": {
    "collapsed": false,
    "pycharm": {
     "name": "#%%\n"
    }
   }
  },
  {
   "cell_type": "code",
   "execution_count": 66,
   "outputs": [
    {
     "data": {
      "text/plain": "0       1.0\n1       NaN\n2       2.0\n3       NaN\n4   -1000.0\n5       3.0\ndtype: float64"
     },
     "execution_count": 66,
     "metadata": {},
     "output_type": "execute_result"
    }
   ],
   "source": [
    "data.replace(-999,np.nan)"
   ],
   "metadata": {
    "collapsed": false,
    "pycharm": {
     "name": "#%%\n"
    }
   }
  },
  {
   "cell_type": "code",
   "execution_count": 68,
   "outputs": [
    {
     "data": {
      "text/plain": "0    1.0\n1    NaN\n2    2.0\n3    NaN\n4    0.0\n5    3.0\ndtype: float64"
     },
     "execution_count": 68,
     "metadata": {},
     "output_type": "execute_result"
    }
   ],
   "source": [
    "data.replace([-999,-1000],[np.nan,0])"
   ],
   "metadata": {
    "collapsed": false,
    "pycharm": {
     "name": "#%%\n"
    }
   }
  },
  {
   "cell_type": "code",
   "execution_count": 69,
   "outputs": [],
   "source": [
    "# 重命名轴索引"
   ],
   "metadata": {
    "collapsed": false,
    "pycharm": {
     "name": "#%%\n"
    }
   }
  },
  {
   "cell_type": "code",
   "execution_count": 70,
   "outputs": [],
   "source": [
    "data = pd.DataFrame(np.arange(12).reshape((3,4)),index=['Ohio','Colorado','New York'],columns=['one','two','three','four'])"
   ],
   "metadata": {
    "collapsed": false,
    "pycharm": {
     "name": "#%%\n"
    }
   }
  },
  {
   "cell_type": "code",
   "execution_count": 71,
   "outputs": [
    {
     "data": {
      "text/plain": "          one  two  three  four\nOhio        0    1      2     3\nColorado    4    5      6     7\nNew York    8    9     10    11",
      "text/html": "<div>\n<style scoped>\n    .dataframe tbody tr th:only-of-type {\n        vertical-align: middle;\n    }\n\n    .dataframe tbody tr th {\n        vertical-align: top;\n    }\n\n    .dataframe thead th {\n        text-align: right;\n    }\n</style>\n<table border=\"1\" class=\"dataframe\">\n  <thead>\n    <tr style=\"text-align: right;\">\n      <th></th>\n      <th>one</th>\n      <th>two</th>\n      <th>three</th>\n      <th>four</th>\n    </tr>\n  </thead>\n  <tbody>\n    <tr>\n      <th>Ohio</th>\n      <td>0</td>\n      <td>1</td>\n      <td>2</td>\n      <td>3</td>\n    </tr>\n    <tr>\n      <th>Colorado</th>\n      <td>4</td>\n      <td>5</td>\n      <td>6</td>\n      <td>7</td>\n    </tr>\n    <tr>\n      <th>New York</th>\n      <td>8</td>\n      <td>9</td>\n      <td>10</td>\n      <td>11</td>\n    </tr>\n  </tbody>\n</table>\n</div>"
     },
     "execution_count": 71,
     "metadata": {},
     "output_type": "execute_result"
    }
   ],
   "source": [
    "data"
   ],
   "metadata": {
    "collapsed": false,
    "pycharm": {
     "name": "#%%\n"
    }
   }
  },
  {
   "cell_type": "code",
   "execution_count": 72,
   "outputs": [],
   "source": [
    "transform = lambda  x:x[:4].upper()"
   ],
   "metadata": {
    "collapsed": false,
    "pycharm": {
     "name": "#%%\n"
    }
   }
  },
  {
   "cell_type": "code",
   "execution_count": 73,
   "outputs": [
    {
     "data": {
      "text/plain": "Index(['OHIO', 'COLO', 'NEW '], dtype='object')"
     },
     "execution_count": 73,
     "metadata": {},
     "output_type": "execute_result"
    }
   ],
   "source": [
    "data.index.map(transform)"
   ],
   "metadata": {
    "collapsed": false,
    "pycharm": {
     "name": "#%%\n"
    }
   }
  },
  {
   "cell_type": "code",
   "execution_count": 74,
   "outputs": [
    {
     "data": {
      "text/plain": "          one  two  three  four\nOhio        0    1      2     3\nColorado    4    5      6     7\nNew York    8    9     10    11",
      "text/html": "<div>\n<style scoped>\n    .dataframe tbody tr th:only-of-type {\n        vertical-align: middle;\n    }\n\n    .dataframe tbody tr th {\n        vertical-align: top;\n    }\n\n    .dataframe thead th {\n        text-align: right;\n    }\n</style>\n<table border=\"1\" class=\"dataframe\">\n  <thead>\n    <tr style=\"text-align: right;\">\n      <th></th>\n      <th>one</th>\n      <th>two</th>\n      <th>three</th>\n      <th>four</th>\n    </tr>\n  </thead>\n  <tbody>\n    <tr>\n      <th>Ohio</th>\n      <td>0</td>\n      <td>1</td>\n      <td>2</td>\n      <td>3</td>\n    </tr>\n    <tr>\n      <th>Colorado</th>\n      <td>4</td>\n      <td>5</td>\n      <td>6</td>\n      <td>7</td>\n    </tr>\n    <tr>\n      <th>New York</th>\n      <td>8</td>\n      <td>9</td>\n      <td>10</td>\n      <td>11</td>\n    </tr>\n  </tbody>\n</table>\n</div>"
     },
     "execution_count": 74,
     "metadata": {},
     "output_type": "execute_result"
    }
   ],
   "source": [
    "data"
   ],
   "metadata": {
    "collapsed": false,
    "pycharm": {
     "name": "#%%\n"
    }
   }
  },
  {
   "cell_type": "code",
   "execution_count": 75,
   "outputs": [],
   "source": [
    "data.index = data.index.map(transform)"
   ],
   "metadata": {
    "collapsed": false,
    "pycharm": {
     "name": "#%%\n"
    }
   }
  },
  {
   "cell_type": "code",
   "execution_count": 76,
   "outputs": [
    {
     "data": {
      "text/plain": "      one  two  three  four\nOHIO    0    1      2     3\nCOLO    4    5      6     7\nNEW     8    9     10    11",
      "text/html": "<div>\n<style scoped>\n    .dataframe tbody tr th:only-of-type {\n        vertical-align: middle;\n    }\n\n    .dataframe tbody tr th {\n        vertical-align: top;\n    }\n\n    .dataframe thead th {\n        text-align: right;\n    }\n</style>\n<table border=\"1\" class=\"dataframe\">\n  <thead>\n    <tr style=\"text-align: right;\">\n      <th></th>\n      <th>one</th>\n      <th>two</th>\n      <th>three</th>\n      <th>four</th>\n    </tr>\n  </thead>\n  <tbody>\n    <tr>\n      <th>OHIO</th>\n      <td>0</td>\n      <td>1</td>\n      <td>2</td>\n      <td>3</td>\n    </tr>\n    <tr>\n      <th>COLO</th>\n      <td>4</td>\n      <td>5</td>\n      <td>6</td>\n      <td>7</td>\n    </tr>\n    <tr>\n      <th>NEW</th>\n      <td>8</td>\n      <td>9</td>\n      <td>10</td>\n      <td>11</td>\n    </tr>\n  </tbody>\n</table>\n</div>"
     },
     "execution_count": 76,
     "metadata": {},
     "output_type": "execute_result"
    }
   ],
   "source": [
    "data"
   ],
   "metadata": {
    "collapsed": false,
    "pycharm": {
     "name": "#%%\n"
    }
   }
  },
  {
   "cell_type": "code",
   "execution_count": 77,
   "outputs": [
    {
     "data": {
      "text/plain": "      ONE  TWO  THREE  FOUR\nOhio    0    1      2     3\nColo    4    5      6     7\nNew     8    9     10    11",
      "text/html": "<div>\n<style scoped>\n    .dataframe tbody tr th:only-of-type {\n        vertical-align: middle;\n    }\n\n    .dataframe tbody tr th {\n        vertical-align: top;\n    }\n\n    .dataframe thead th {\n        text-align: right;\n    }\n</style>\n<table border=\"1\" class=\"dataframe\">\n  <thead>\n    <tr style=\"text-align: right;\">\n      <th></th>\n      <th>ONE</th>\n      <th>TWO</th>\n      <th>THREE</th>\n      <th>FOUR</th>\n    </tr>\n  </thead>\n  <tbody>\n    <tr>\n      <th>Ohio</th>\n      <td>0</td>\n      <td>1</td>\n      <td>2</td>\n      <td>3</td>\n    </tr>\n    <tr>\n      <th>Colo</th>\n      <td>4</td>\n      <td>5</td>\n      <td>6</td>\n      <td>7</td>\n    </tr>\n    <tr>\n      <th>New</th>\n      <td>8</td>\n      <td>9</td>\n      <td>10</td>\n      <td>11</td>\n    </tr>\n  </tbody>\n</table>\n</div>"
     },
     "execution_count": 77,
     "metadata": {},
     "output_type": "execute_result"
    }
   ],
   "source": [
    "data.rename(index=str.title,columns=str.upper)"
   ],
   "metadata": {
    "collapsed": false,
    "pycharm": {
     "name": "#%%\n"
    }
   }
  },
  {
   "cell_type": "code",
   "execution_count": 78,
   "outputs": [
    {
     "data": {
      "text/plain": "         one  two  peekaboo  four\nINDIANA    0    1         2     3\nCOLO       4    5         6     7\nNEW        8    9        10    11",
      "text/html": "<div>\n<style scoped>\n    .dataframe tbody tr th:only-of-type {\n        vertical-align: middle;\n    }\n\n    .dataframe tbody tr th {\n        vertical-align: top;\n    }\n\n    .dataframe thead th {\n        text-align: right;\n    }\n</style>\n<table border=\"1\" class=\"dataframe\">\n  <thead>\n    <tr style=\"text-align: right;\">\n      <th></th>\n      <th>one</th>\n      <th>two</th>\n      <th>peekaboo</th>\n      <th>four</th>\n    </tr>\n  </thead>\n  <tbody>\n    <tr>\n      <th>INDIANA</th>\n      <td>0</td>\n      <td>1</td>\n      <td>2</td>\n      <td>3</td>\n    </tr>\n    <tr>\n      <th>COLO</th>\n      <td>4</td>\n      <td>5</td>\n      <td>6</td>\n      <td>7</td>\n    </tr>\n    <tr>\n      <th>NEW</th>\n      <td>8</td>\n      <td>9</td>\n      <td>10</td>\n      <td>11</td>\n    </tr>\n  </tbody>\n</table>\n</div>"
     },
     "execution_count": 78,
     "metadata": {},
     "output_type": "execute_result"
    }
   ],
   "source": [
    "data.rename(index={'OHIO':'INDIANA'},columns={'three':'peekaboo'})"
   ],
   "metadata": {
    "collapsed": false,
    "pycharm": {
     "name": "#%%\n"
    }
   }
  },
  {
   "cell_type": "code",
   "execution_count": 79,
   "outputs": [
    {
     "data": {
      "text/plain": "      one  two  three  four\nOHIO    0    1      2     3\nCOLO    4    5      6     7\nNEW     8    9     10    11",
      "text/html": "<div>\n<style scoped>\n    .dataframe tbody tr th:only-of-type {\n        vertical-align: middle;\n    }\n\n    .dataframe tbody tr th {\n        vertical-align: top;\n    }\n\n    .dataframe thead th {\n        text-align: right;\n    }\n</style>\n<table border=\"1\" class=\"dataframe\">\n  <thead>\n    <tr style=\"text-align: right;\">\n      <th></th>\n      <th>one</th>\n      <th>two</th>\n      <th>three</th>\n      <th>four</th>\n    </tr>\n  </thead>\n  <tbody>\n    <tr>\n      <th>OHIO</th>\n      <td>0</td>\n      <td>1</td>\n      <td>2</td>\n      <td>3</td>\n    </tr>\n    <tr>\n      <th>COLO</th>\n      <td>4</td>\n      <td>5</td>\n      <td>6</td>\n      <td>7</td>\n    </tr>\n    <tr>\n      <th>NEW</th>\n      <td>8</td>\n      <td>9</td>\n      <td>10</td>\n      <td>11</td>\n    </tr>\n  </tbody>\n</table>\n</div>"
     },
     "execution_count": 79,
     "metadata": {},
     "output_type": "execute_result"
    }
   ],
   "source": [
    "data"
   ],
   "metadata": {
    "collapsed": false,
    "pycharm": {
     "name": "#%%\n"
    }
   }
  },
  {
   "cell_type": "code",
   "execution_count": 80,
   "outputs": [
    {
     "data": {
      "text/plain": "        mmp  mmp2  three  four\nddooda    0     1      2     3\nCOLO      4     5      6     7\nNEW       8     9     10    11",
      "text/html": "<div>\n<style scoped>\n    .dataframe tbody tr th:only-of-type {\n        vertical-align: middle;\n    }\n\n    .dataframe tbody tr th {\n        vertical-align: top;\n    }\n\n    .dataframe thead th {\n        text-align: right;\n    }\n</style>\n<table border=\"1\" class=\"dataframe\">\n  <thead>\n    <tr style=\"text-align: right;\">\n      <th></th>\n      <th>mmp</th>\n      <th>mmp2</th>\n      <th>three</th>\n      <th>four</th>\n    </tr>\n  </thead>\n  <tbody>\n    <tr>\n      <th>ddooda</th>\n      <td>0</td>\n      <td>1</td>\n      <td>2</td>\n      <td>3</td>\n    </tr>\n    <tr>\n      <th>COLO</th>\n      <td>4</td>\n      <td>5</td>\n      <td>6</td>\n      <td>7</td>\n    </tr>\n    <tr>\n      <th>NEW</th>\n      <td>8</td>\n      <td>9</td>\n      <td>10</td>\n      <td>11</td>\n    </tr>\n  </tbody>\n</table>\n</div>"
     },
     "execution_count": 80,
     "metadata": {},
     "output_type": "execute_result"
    }
   ],
   "source": [
    "data.rename(index={'OHIO':'ddooda'},columns={'one':'mmp','two':'mmp2'})"
   ],
   "metadata": {
    "collapsed": false,
    "pycharm": {
     "name": "#%%\n"
    }
   }
  },
  {
   "cell_type": "code",
   "execution_count": 81,
   "outputs": [],
   "source": [
    "# 离散化和面元划分\n",
    "# 为了便于分析,连续数据离散化和面元\n",
    "ages = [20,22,25,27,21,23,37,31,61,45,41,32]"
   ],
   "metadata": {
    "collapsed": false,
    "pycharm": {
     "name": "#%%\n"
    }
   }
  },
  {
   "cell_type": "code",
   "execution_count": 82,
   "outputs": [],
   "source": [
    "bins = [18,25,35,60,100]"
   ],
   "metadata": {
    "collapsed": false,
    "pycharm": {
     "name": "#%%\n"
    }
   }
  },
  {
   "cell_type": "code",
   "execution_count": 83,
   "outputs": [],
   "source": [
    "cats = pd.cut(ages,bins)"
   ],
   "metadata": {
    "collapsed": false,
    "pycharm": {
     "name": "#%%\n"
    }
   }
  },
  {
   "cell_type": "code",
   "execution_count": 84,
   "outputs": [
    {
     "data": {
      "text/plain": "[(18, 25], (18, 25], (18, 25], (25, 35], (18, 25], ..., (25, 35], (60, 100], (35, 60], (35, 60], (25, 35]]\nLength: 12\nCategories (4, interval[int64, right]): [(18, 25] < (25, 35] < (35, 60] < (60, 100]]"
     },
     "execution_count": 84,
     "metadata": {},
     "output_type": "execute_result"
    }
   ],
   "source": [
    "cats"
   ],
   "metadata": {
    "collapsed": false,
    "pycharm": {
     "name": "#%%\n"
    }
   }
  },
  {
   "cell_type": "code",
   "execution_count": 85,
   "outputs": [
    {
     "data": {
      "text/plain": "array([0, 0, 0, 1, 0, 0, 2, 1, 3, 2, 2, 1], dtype=int8)"
     },
     "execution_count": 85,
     "metadata": {},
     "output_type": "execute_result"
    }
   ],
   "source": [
    "cats.codes"
   ],
   "metadata": {
    "collapsed": false,
    "pycharm": {
     "name": "#%%\n"
    }
   }
  },
  {
   "cell_type": "code",
   "execution_count": 86,
   "outputs": [
    {
     "data": {
      "text/plain": "IntervalIndex([(18, 25], (25, 35], (35, 60], (60, 100]], dtype='interval[int64, right]')"
     },
     "execution_count": 86,
     "metadata": {},
     "output_type": "execute_result"
    }
   ],
   "source": [
    "cats.categories"
   ],
   "metadata": {
    "collapsed": false,
    "pycharm": {
     "name": "#%%\n"
    }
   }
  },
  {
   "cell_type": "code",
   "execution_count": 87,
   "outputs": [
    {
     "data": {
      "text/plain": "(18, 25]     5\n(25, 35]     3\n(35, 60]     3\n(60, 100]    1\ndtype: int64"
     },
     "execution_count": 87,
     "metadata": {},
     "output_type": "execute_result"
    }
   ],
   "source": [
    "pd.value_counts(cats)"
   ],
   "metadata": {
    "collapsed": false,
    "pycharm": {
     "name": "#%%\n"
    }
   }
  },
  {
   "cell_type": "code",
   "execution_count": 88,
   "outputs": [
    {
     "data": {
      "text/plain": "[[18, 26), [18, 26), [18, 26), [26, 36), [18, 26), ..., [26, 36), [61, 100), [36, 61), [36, 61), [26, 36)]\nLength: 12\nCategories (4, interval[int64, left]): [[18, 26) < [26, 36) < [36, 61) < [61, 100)]"
     },
     "execution_count": 88,
     "metadata": {},
     "output_type": "execute_result"
    }
   ],
   "source": [
    "pd.cut(ages,[18,26,36,61,100],right=False)"
   ],
   "metadata": {
    "collapsed": false,
    "pycharm": {
     "name": "#%%\n"
    }
   }
  },
  {
   "cell_type": "code",
   "execution_count": 90,
   "outputs": [
    {
     "data": {
      "text/plain": "array([0, 0, 0, 1, 0, 0, 2, 1, 3, 2, 2, 1], dtype=int8)"
     },
     "execution_count": 90,
     "metadata": {},
     "output_type": "execute_result"
    }
   ],
   "source": [
    "pd.cut(ages,[18,26,36,61,100],right=False).codes"
   ],
   "metadata": {
    "collapsed": false,
    "pycharm": {
     "name": "#%%\n"
    }
   }
  },
  {
   "cell_type": "code",
   "execution_count": 91,
   "outputs": [],
   "source": [
    "group_names = ['Youth','YoungAdult','MiddleAged','Senior']"
   ],
   "metadata": {
    "collapsed": false,
    "pycharm": {
     "name": "#%%\n"
    }
   }
  },
  {
   "cell_type": "code",
   "execution_count": 92,
   "outputs": [
    {
     "data": {
      "text/plain": "['Youth', 'Youth', 'Youth', 'YoungAdult', 'Youth', ..., 'YoungAdult', 'Senior', 'MiddleAged', 'MiddleAged', 'YoungAdult']\nLength: 12\nCategories (4, object): ['Youth' < 'YoungAdult' < 'MiddleAged' < 'Senior']"
     },
     "execution_count": 92,
     "metadata": {},
     "output_type": "execute_result"
    }
   ],
   "source": [
    "pd.cut(ages,bins,labels=group_names)"
   ],
   "metadata": {
    "collapsed": false,
    "pycharm": {
     "name": "#%%\n"
    }
   }
  },
  {
   "cell_type": "code",
   "execution_count": 93,
   "outputs": [
    {
     "data": {
      "text/plain": "array([0, 0, 0, 1, 0, 0, 2, 1, 3, 2, 2, 1], dtype=int8)"
     },
     "execution_count": 93,
     "metadata": {},
     "output_type": "execute_result"
    }
   ],
   "source": [
    "pd.cut(ages,bins,labels=group_names).codes"
   ],
   "metadata": {
    "collapsed": false,
    "pycharm": {
     "name": "#%%\n"
    }
   }
  },
  {
   "cell_type": "code",
   "execution_count": 94,
   "outputs": [],
   "source": [
    "data = np.random.rand(20)"
   ],
   "metadata": {
    "collapsed": false,
    "pycharm": {
     "name": "#%%\n"
    }
   }
  },
  {
   "cell_type": "code",
   "execution_count": 95,
   "outputs": [
    {
     "data": {
      "text/plain": "array([0.61670014, 0.37377696, 0.45882936, 0.30105643, 0.32901091,\n       0.21304028, 0.23255681, 0.1952055 , 0.09570313, 0.69323403,\n       0.51907632, 0.18368103, 0.45522917, 0.42775475, 0.79207072,\n       0.81190332, 0.58131688, 0.15711157, 0.52858599, 0.5575711 ])"
     },
     "execution_count": 95,
     "metadata": {},
     "output_type": "execute_result"
    }
   ],
   "source": [
    "data"
   ],
   "metadata": {
    "collapsed": false,
    "pycharm": {
     "name": "#%%\n"
    }
   }
  },
  {
   "cell_type": "code",
   "execution_count": 96,
   "outputs": [
    {
     "data": {
      "text/plain": "[(0.45, 0.63], (0.27, 0.45], (0.45, 0.63], (0.27, 0.45], (0.27, 0.45], ..., (0.63, 0.81], (0.45, 0.63], (0.095, 0.27], (0.45, 0.63], (0.45, 0.63]]\nLength: 20\nCategories (4, interval[float64, right]): [(0.095, 0.27] < (0.27, 0.45] < (0.45, 0.63] < (0.63, 0.81]]"
     },
     "execution_count": 96,
     "metadata": {},
     "output_type": "execute_result"
    }
   ],
   "source": [
    "pd.cut(data,4,precision=2)"
   ],
   "metadata": {
    "collapsed": false,
    "pycharm": {
     "name": "#%%\n"
    }
   }
  },
  {
   "cell_type": "code",
   "execution_count": 97,
   "outputs": [],
   "source": [
    "# 等分切分qcut\n",
    "data = np.random.randn(1000)"
   ],
   "metadata": {
    "collapsed": false,
    "pycharm": {
     "name": "#%%\n"
    }
   }
  },
  {
   "cell_type": "code",
   "execution_count": 98,
   "outputs": [
    {
     "data": {
      "text/plain": "array([ 3.59020969e-01, -1.26610253e+00,  7.72085928e-01,  3.29110061e-01,\n        1.88836438e+00, -2.01194539e-01, -1.18543441e+00, -6.82275101e-01,\n       -2.11389420e+00, -5.12932408e-01,  3.25575282e-01,  2.02324502e-01,\n       -1.30573783e-01, -5.40140317e-02,  4.55565211e-01, -7.12837883e-01,\n        1.53731676e+00, -7.58769623e-01, -5.11108133e-01, -1.51562208e+00,\n        1.31184343e+00, -3.48235226e-01, -3.53637555e-01,  3.65024388e-01,\n       -2.54444432e-01,  8.68324898e-01,  2.76902014e-01, -4.49888905e-01,\n       -6.65305715e-01, -1.24250922e+00,  1.03100199e+00, -4.20314500e-01,\n       -1.20722974e-02, -1.15420227e+00,  2.96613793e-01, -3.65980483e-01,\n        2.18348128e+00, -4.75790274e-01, -1.28177438e-01,  1.49303683e+00,\n       -7.77407039e-01,  1.22795319e+00, -8.81239697e-02,  4.52972758e-01,\n       -4.93727609e-01, -7.13132382e-01, -6.65447561e-01, -1.41464621e+00,\n       -3.07871548e-01,  4.15670105e-01, -7.33988888e-01,  1.20817125e+00,\n       -7.33460602e-01,  9.55465692e-01, -1.29478007e+00, -8.46195346e-01,\n       -1.58288837e+00, -5.45845455e-01,  1.10417082e-01,  1.63474919e+00,\n        1.03812693e+00, -7.42746646e-01, -5.25437791e-01, -7.48883907e-01,\n        1.46068218e+00,  8.28400678e-01, -4.66233211e-01, -5.61299834e-01,\n       -7.59988950e-01, -2.70406440e-01, -2.85423873e+00,  1.18770752e+00,\n       -1.15026914e+00, -1.25236745e+00, -1.76516881e+00,  1.94170751e-01,\n        6.37381169e-01,  3.08155168e-01,  3.13210566e-01,  1.20782936e+00,\n       -1.28007572e+00,  4.04580562e-01, -1.38970186e-01, -2.90763517e-01,\n        1.31256646e+00, -1.67616561e+00, -6.28165887e-01,  7.63716363e-02,\n        4.43749352e-02,  1.99700898e+00, -1.13273689e+00, -1.09051432e-01,\n        6.28954703e-02, -8.21229563e-02, -7.09273690e-01, -1.96001449e+00,\n       -3.46571878e-01, -8.07811240e-01, -2.44567460e+00, -1.11171608e+00,\n       -7.87156123e-01,  8.55418741e-01,  1.01578334e+00,  7.20631071e-01,\n        7.66272783e-01,  9.93686345e-01,  9.98954019e-01,  3.16735034e-01,\n       -4.28097550e-01, -5.05185213e-01, -7.18965048e-01,  2.13453955e+00,\n       -9.33880112e-01,  2.97718152e-01,  1.12930897e+00,  5.97050064e-01,\n       -1.58029037e+00,  3.30000941e-01, -3.98955779e-01, -1.32084625e+00,\n       -4.38217366e-01,  3.63830437e-01, -1.20896892e+00, -4.64170426e-01,\n        9.59333689e-01, -6.58412388e-01,  3.02013074e+00,  3.75152905e-01,\n        8.15440913e-01,  1.25499564e+00,  6.60285894e-01,  7.55580119e-01,\n        3.72378088e-01,  1.24867378e+00,  1.30114036e+00, -7.75844203e-01,\n       -5.79025456e-01,  3.53517479e-01,  6.15710100e-01,  5.50727612e-01,\n        1.13227521e+00,  2.52584393e-01, -6.08147973e-01, -2.59020019e-01,\n       -8.05727379e-01,  3.65935050e-01,  4.50471031e-01, -1.41016176e+00,\n        6.91753577e-01,  6.31812049e-01, -6.39526468e-01, -7.01245372e-01,\n       -1.36297049e-02, -4.57195421e-01, -6.82444440e-01,  1.47325644e+00,\n        8.45094527e-01, -5.10903428e-01, -2.86472037e-01,  5.15264725e-01,\n        9.98389904e-01, -1.00834499e+00,  1.00377791e-01, -1.68613688e+00,\n       -7.96700693e-01, -9.69282695e-01,  3.13768015e-01, -1.34823764e+00,\n        5.99425049e-01,  5.58564363e-01,  1.17102862e+00, -2.89342707e-01,\n        1.03106562e+00, -1.21132722e-01, -5.45697820e-02, -8.75636978e-01,\n       -4.73267437e-01, -8.39133769e-01,  3.44296441e-01,  3.25967299e-01,\n        2.48328345e-01, -3.34769398e-01, -3.06769682e-01, -7.05001129e-01,\n       -4.46227260e-01, -1.37629772e+00, -1.22509397e+00,  2.60727093e-01,\n        3.85223219e-01, -1.01228462e+00,  1.51598795e-01, -2.74270204e-01,\n        1.87178134e+00,  2.35784925e+00,  1.05946325e+00,  1.43178349e-01,\n       -4.02862313e-01,  1.65183747e-01,  8.99765322e-01, -8.28487755e-01,\n       -6.59472738e-01, -1.11215215e-01,  7.88000326e-01,  2.55193219e+00,\n        1.20381752e+00, -7.09096919e-01,  7.99541896e-01,  1.05192479e+00,\n        2.55403528e+00, -1.63744824e-02, -3.60585073e-01,  6.57120676e-01,\n        2.70502697e+00,  1.85193398e+00, -1.20101125e+00,  2.52655317e+00,\n        5.20203260e-01,  1.61435310e+00, -4.62857269e-01,  1.51383649e+00,\n        3.38786567e+00, -2.00925361e+00, -1.09518875e+00,  3.41487542e-01,\n       -6.25353633e-01, -5.99971682e-01, -1.94923077e-01, -4.09330407e-01,\n       -6.38453178e-01, -1.08854590e-01,  1.68237021e-01, -1.84520472e+00,\n       -2.90422723e-02,  2.55891807e-02, -1.25284600e+00, -2.87683537e-01,\n        1.79845050e+00, -9.94059445e-01,  9.74532823e-01,  2.98311764e-01,\n        2.09360446e-01,  3.21891834e-01, -1.67586806e+00, -1.81754359e+00,\n        2.68303810e-02,  1.70384586e+00, -5.03793889e-01, -3.86020659e-01,\n       -8.82565466e-01, -9.99243008e-01, -9.79195299e-01, -1.20540195e+00,\n        2.09668183e+00,  7.19145196e-01,  2.85801027e-03,  4.50550892e-01,\n       -3.01232846e+00, -1.46772992e+00,  1.10242132e+00, -9.42722542e-01,\n       -2.42957574e-01, -4.37901418e-01,  1.51898623e+00,  2.81372688e-03,\n       -2.05979476e-01,  6.50664938e-01,  6.31637606e-01,  1.66569537e+00,\n        1.09147303e+00, -9.15958178e-01, -1.23892567e+00, -6.81332715e-01,\n        1.14131389e-02, -1.75966078e+00, -1.22332575e+00, -2.05084379e+00,\n        6.08907098e-01, -3.08993293e-01, -1.23004600e-01, -4.60455675e-01,\n       -3.41774868e-01, -1.38330646e+00, -2.99588998e-01, -1.15727736e+00,\n        1.32578334e-01,  8.05024583e-01, -1.20075527e+00, -7.72914569e-01,\n        4.61829318e-01,  1.49255999e+00, -1.25678942e+00, -4.16943130e-01,\n       -1.42155061e+00, -5.18744411e-01,  4.52113242e-01, -1.79842340e+00,\n       -8.25061570e-01, -1.64659243e+00, -5.54270407e-01, -8.64575315e-01,\n        6.50527047e-01,  2.39183462e-01, -1.35205436e-01,  9.91434922e-01,\n        6.57779436e-01, -1.14055181e+00,  1.55588429e-01,  5.99204106e-01,\n       -6.38529785e-01, -3.32680291e-01,  3.92578681e-01,  1.16941958e+00,\n       -1.13674915e+00, -8.37692145e-01, -1.40798213e+00, -8.79651149e-01,\n        1.10303358e-01, -6.85841131e-01,  2.95782489e-01,  4.30516737e-01,\n       -1.05862478e+00, -1.26318117e+00,  1.56136271e+00, -1.92475621e+00,\n        5.62578945e-01, -8.83970002e-01, -8.08562495e-01,  1.33587833e+00,\n        4.17780019e-01, -3.77744370e-01,  1.12152890e+00, -1.57924807e+00,\n        1.09496706e+00,  1.29918512e+00, -8.27940924e-01,  3.70895665e-01,\n        6.46045572e-01, -4.25886468e-02, -4.37798181e-01, -2.69099258e-01,\n        6.07361950e-02,  8.52741684e-01,  1.15477924e+00, -1.01718288e+00,\n        3.95258874e-01, -4.79714906e-01,  1.73192409e+00,  1.29107531e+00,\n       -1.70216418e-01, -1.60230190e+00,  1.29381137e-01,  2.59892815e-01,\n        2.19562145e-01,  4.75174656e-02, -2.06715181e+00, -1.80003360e+00,\n        9.17047028e-01,  1.90426141e-01, -3.28529709e-01, -7.89858153e-01,\n       -1.27728658e+00,  1.67329913e-01, -6.36797362e-01,  4.82622942e-01,\n        7.89856984e-01, -5.25601642e-01, -5.81124938e-01, -3.30809763e-01,\n       -1.37865796e+00, -6.09294469e-01,  3.21754023e-01,  1.32855103e+00,\n       -4.32854208e-01,  1.13777283e+00, -4.70012006e-01, -9.52916158e-01,\n       -4.90017359e-01,  4.04428501e-01,  6.22370295e-02, -2.44153644e+00,\n       -2.92092921e-01,  6.70181272e-01,  7.12235685e-01, -6.13645196e-01,\n        6.13529890e-01, -1.35218527e+00,  3.01570484e-01, -2.56861516e+00,\n       -1.08068448e+00, -2.87862437e-01, -4.31836444e-01,  1.12291397e+00,\n       -1.84251929e-02,  1.17436552e+00,  1.23782357e+00, -1.20285878e+00,\n       -1.20257468e-01, -7.82095821e-01,  7.95714521e-01,  4.09722044e-01,\n       -2.18521554e-01, -8.04004511e-02, -9.40453184e-01,  1.64016113e+00,\n       -1.14300558e+00, -1.35513948e-01, -7.87639872e-01,  1.91922719e+00,\n        5.69965057e-01, -1.18344734e-01,  3.12207858e-01,  1.64731038e-01,\n       -1.92179668e-01, -1.29669923e+00, -2.37729016e+00, -1.13171408e-01,\n        5.17427829e-01, -1.04421865e+00,  1.00302374e+00, -1.42784308e+00,\n        4.50703654e-01,  5.66519504e-01,  5.82259799e-01, -1.68642232e-01,\n        6.88934309e-01,  5.11276008e-02, -6.55738769e-02, -7.40841209e-01,\n       -2.25556593e-01,  2.43901066e-01, -1.15658290e-01, -5.78435207e-01,\n        1.28369529e-01,  2.50906962e-01,  6.54028179e-01, -2.79203881e+00,\n        6.44634534e-01, -7.05898145e-02,  1.21892788e+00, -5.30780086e-01,\n        2.46493589e-01, -2.14946263e-01, -1.34121508e-01, -2.80341754e-01,\n       -1.53781071e-02, -3.90114697e-02,  5.27237225e-01, -3.99026465e-01,\n        7.07850711e-01,  4.49985146e-01, -5.97414031e-01,  4.85309575e-01,\n        8.28077061e-02, -1.04854574e+00, -4.88735871e-01,  2.33919235e-02,\n        1.83181121e+00,  1.33325607e+00,  3.85879629e-01, -4.00007991e-01,\n       -1.09094322e+00, -1.08159246e+00,  1.38355227e+00,  8.18914115e-01,\n        2.91974912e-02, -2.59648800e-01, -3.69839165e-01,  9.53339332e-01,\n        9.17491174e-01,  1.09073262e+00, -1.53382856e+00, -1.44999469e+00,\n        2.23874187e-01, -4.04233595e-01,  8.55047491e-01, -9.77713357e-01,\n        1.16132526e+00,  1.06072420e+00,  5.78387248e-01,  1.07102333e+00,\n       -1.39966649e+00,  1.72131330e+00,  3.96015505e-01, -8.91856112e-01,\n       -8.34068335e-01,  1.04422383e-01, -1.47097201e+00,  1.10700852e+00,\n       -8.94557116e-01, -3.21382158e-01, -2.23804384e-01, -1.72239016e+00,\n        8.71047394e-01, -6.67715813e-01, -3.32848479e-01,  1.27065495e+00,\n        8.19811628e-01, -9.08399254e-02, -5.09871502e-01,  1.78530146e+00,\n        1.65727670e-01,  3.44381844e-01,  3.53993100e-01, -9.32189795e-01,\n       -4.32087968e-01, -3.65224436e-01,  6.91645341e-01,  2.14229608e+00,\n       -4.37277002e-01,  1.08758880e+00, -2.36700981e-01,  4.81270513e-01,\n        1.11100718e+00,  1.66870711e+00, -1.42380707e+00,  1.98207730e-01,\n        6.97670181e-01,  8.22970204e-01, -5.43079998e-01,  8.04091335e-01,\n       -2.21291068e-01,  1.79275921e+00,  9.78468961e-01,  6.60691370e-01,\n       -2.85101881e-01,  5.86781548e-01, -2.44819262e-01, -1.39534663e-01,\n        2.22068084e-01,  5.87339133e-02, -5.92002151e-01,  8.56227875e-01,\n        3.60139514e-03, -3.33545913e-01, -1.78163465e+00,  9.96735176e-02,\n       -1.64886645e+00, -1.90513648e-01, -1.43702982e+00,  1.60595083e+00,\n       -1.97977047e-01,  1.32312759e+00, -6.28451633e-01, -2.51758877e+00,\n        1.18926225e+00,  2.09621057e+00,  4.32884889e-01,  7.72368353e-01,\n       -7.89509251e-01, -4.82202563e-01, -1.13683463e+00, -5.43239581e-01,\n       -6.33065649e-01,  4.03728286e-01, -6.74589923e-01, -7.89713794e-01,\n        4.41788118e-01,  4.15739594e-01,  1.61459529e+00, -4.36514672e-01,\n        2.15045932e-01,  4.16941072e-01,  4.21527712e-01,  1.71105503e+00,\n        1.18559008e+00, -3.61469637e-01, -3.22155355e-01,  9.46387295e-01,\n        5.70476748e-01, -1.12245350e+00,  2.17569099e+00, -1.06829586e-01,\n        5.55428056e-01, -1.72566229e+00, -6.61407446e-01,  2.86955876e-01,\n       -2.60321672e+00,  1.23206123e+00,  4.97123893e-01, -1.01604520e+00,\n       -8.09879242e-02,  1.68641912e+00, -4.12280819e-01, -4.85903281e-01,\n        9.60614694e-01, -6.17574536e-01,  1.12537283e+00, -7.98822271e-01,\n        4.03546636e-01,  7.38367201e-01,  1.90499552e+00,  6.65611162e-01,\n        6.19140558e-02,  5.23418180e-01, -1.84745785e+00,  1.08202872e+00,\n        4.28751188e-01,  7.21777814e-01, -2.27296003e-01,  3.10363074e-01,\n       -1.44619731e-01,  7.89517506e-01, -1.95865224e+00,  2.12743948e-01,\n       -1.86044664e+00,  3.67206471e-01, -2.06687606e+00,  6.54785192e-03,\n        3.42780116e-01, -9.31230698e-01,  2.62196298e-01, -1.55655055e+00,\n       -1.98804909e+00, -6.25047818e-01, -7.80606455e-03,  2.13458292e+00,\n       -2.02333919e+00, -7.36776795e-01, -1.32135343e-01,  9.86197221e-01,\n        9.86999417e-01, -4.43265318e-02,  5.49071742e-01, -1.82846943e-01,\n       -5.18030390e-01,  1.38642043e+00,  2.09180085e-01,  6.45419811e-01,\n        5.32466197e-01, -2.70633932e-01,  1.22436043e+00, -1.81381322e+00,\n        9.79126273e-01,  7.21200418e-01, -1.15419257e+00,  1.43010793e+00,\n       -1.78713806e+00,  8.05426709e-01,  2.18219545e+00,  8.64960596e-01,\n       -2.11560514e+00, -1.24146585e+00,  1.37156519e+00,  2.31473802e-01,\n        6.16812138e-01,  2.10542027e-01,  4.63609004e-01, -5.53946569e-01,\n        8.88976632e-01,  1.12385258e+00, -1.32577827e-01,  1.36477017e+00,\n        5.05493230e-01, -1.57556821e+00, -3.92953861e-02,  2.00790684e-01,\n       -1.69948366e+00, -2.16337079e-02, -1.07527376e-01,  4.29517619e-01,\n       -4.97433568e-01, -1.43787501e+00, -1.05576714e+00,  6.36996221e-01,\n       -1.15025301e+00,  3.41356566e-01, -1.17482495e+00,  9.17253630e-01,\n       -3.79658697e-01,  7.91430883e-01, -1.23881291e+00,  1.03228932e+00,\n       -6.48378899e-01, -1.56420025e+00, -2.32965556e-01,  3.85500524e-01,\n       -1.27978343e+00,  2.07586420e+00,  1.62134967e-02, -1.20579120e+00,\n       -1.36447627e+00, -1.73076203e+00, -2.15905724e+00, -5.19707914e-01,\n        1.55385067e-01, -1.32917443e+00,  7.25508862e-01, -1.01284449e+00,\n        1.93853968e+00, -1.13725094e+00, -5.36515662e-02, -1.69762275e+00,\n       -1.95996543e+00, -5.81127731e-01,  1.06790005e+00, -1.87371389e-02,\n        8.95645882e-01, -3.07733558e+00,  9.70020519e-01,  4.92893157e-01,\n       -1.43290803e+00, -5.74966234e-01,  6.27550152e-01,  1.86459553e-01,\n        2.58832371e-01, -1.27276706e+00,  7.53593195e-01,  2.28884587e-01,\n       -9.38522821e-01, -1.75958039e+00, -1.35866490e-01,  1.28050313e+00,\n        1.24626416e+00,  1.74328629e+00, -3.58489134e-01,  1.59457537e+00,\n        1.56104317e+00, -2.51841461e-01,  1.53761642e-01, -2.72557174e+00,\n        1.58755950e+00,  1.77168358e-01,  5.17153119e-01, -5.06793811e-01,\n       -9.25225474e-01, -1.36408642e+00,  8.10922735e-01,  1.64038024e+00,\n       -8.51292932e-01, -6.49251181e-01, -1.08785144e+00, -1.56032634e+00,\n       -1.65427552e-01,  1.36123956e+00,  2.01234321e+00,  3.69351441e-01,\n       -2.11370970e+00, -1.73081961e-01,  1.22093803e-01, -5.72417178e-01,\n       -7.74475222e-01, -1.34874071e+00,  1.78098120e+00, -1.23236868e+00,\n       -3.55446379e-01,  1.74319439e+00, -3.72843781e-01,  2.65481366e-01,\n        1.21384630e+00, -3.81603439e-01,  1.17350111e+00,  1.10615800e+00,\n        4.54518948e-01, -6.13180320e-01,  9.82109243e-01, -2.55652802e-01,\n       -5.84397259e-01, -9.14285306e-01, -1.76697886e+00,  1.70759029e+00,\n        8.42106933e-03,  6.51535426e-01, -9.35490247e-01, -3.95893807e-01,\n       -7.23316188e-02,  1.16322875e+00,  1.28481225e-01,  2.92479440e-01,\n       -3.87055308e-01, -4.86046711e-01,  1.83595440e+00, -1.79776491e+00,\n       -6.47671648e-01, -4.29453354e-01,  2.22621296e-01, -1.93427825e+00,\n       -1.03787525e+00, -1.31856420e-01,  1.62165745e+00,  7.49372190e-02,\n       -1.18811477e-02,  1.09868906e-01,  2.82725576e-01, -1.44457320e+00,\n       -3.00701648e-01, -5.52448644e-01,  9.11080791e-01, -1.17428181e+00,\n       -6.17475334e-01,  3.55585971e-02, -5.22657645e-01, -9.63107684e-01,\n       -1.33155838e+00,  7.82711210e-01,  4.06438085e-01, -1.80153857e+00,\n       -1.98004623e+00,  1.20621184e-01, -1.20081732e+00,  3.45076741e-01,\n       -4.05324211e-01,  1.13680459e+00,  7.13308203e-01,  1.14734868e+00,\n       -9.87989969e-01,  1.08684540e+00, -1.40365919e+00,  2.37428227e+00,\n       -1.16184426e+00,  1.60031748e+00,  9.98181845e-01, -8.29515488e-01,\n        1.29892732e+00,  2.21060371e-01, -4.89695427e-01, -1.72171357e-01,\n       -7.02537400e-01, -4.47026681e-01,  1.24226762e+00, -3.77407760e-01,\n        1.52037717e+00,  1.58088176e-01, -9.61119343e-01, -5.88183333e-01,\n       -4.88386812e-01,  6.24647605e-01, -3.66795480e-01, -3.39635777e-01,\n        1.21952374e+00,  8.84128938e-01, -1.06485476e-02, -1.82999271e+00,\n       -5.94848932e-01, -1.26588132e+00, -2.63419579e-01,  4.45984026e-03,\n       -5.62146297e-01,  7.63693782e-01, -8.72274608e-01,  1.88793571e+00,\n        4.52492265e-01,  1.59129117e-01, -8.48708871e-01,  7.09492094e-01,\n       -1.61450250e+00, -1.52615960e+00,  2.57619294e-01,  1.30120928e+00,\n        5.03031294e-01,  1.09657937e+00, -9.08780561e-01,  2.71257840e+00,\n       -6.21120480e-01,  6.55782459e-01,  2.55143414e-02,  9.05517350e-01,\n        2.68044634e-01, -1.27953206e+00,  3.71024402e-01,  3.90399209e-02,\n        4.09265610e-01,  2.72446358e-01, -1.50391293e+00,  1.55160315e+00,\n        1.26568376e+00, -2.12776131e-01,  1.74374414e+00,  3.45973178e-02,\n       -2.11458496e+00, -2.78615536e-01, -1.53456784e+00, -1.17945415e+00,\n       -8.00620192e-01, -1.20234202e+00, -4.91877276e-01,  9.29357899e-01,\n        1.92274016e+00, -7.53372892e-01, -1.60603429e+00,  1.08391257e+00,\n        1.67321356e+00,  3.54786952e-02, -1.68368516e-01,  1.78368789e-01,\n       -9.38065813e-01, -1.08989750e+00, -6.67531547e-01, -6.76267994e-01,\n       -4.13768345e-01, -1.35203797e-01, -1.03693082e+00,  6.22723775e-01,\n       -1.87872691e-01,  3.78977049e-01, -2.80282236e-01,  6.76421074e-01,\n       -9.04041113e-02,  1.26771370e+00, -1.66926191e+00,  1.61133867e-01,\n       -9.76031009e-01,  1.91487605e+00, -2.59647523e+00, -2.27546254e+00,\n        1.17657850e+00, -5.77279519e-02, -4.52281416e-01, -9.18115555e-02,\n       -7.02105662e-01, -1.18676911e+00,  8.90037442e-01, -1.41082977e-01,\n        2.34289957e-01,  9.54970687e-01, -2.01119727e+00,  1.70240049e+00,\n       -6.94514103e-01,  4.92023000e-01, -6.10893316e-01, -1.24174610e-01,\n        1.12712620e+00,  8.16865892e-01, -2.42181061e-02, -2.34785523e-02,\n       -7.13572542e-01,  1.73486759e-01,  3.60387572e-02, -1.17054833e+00,\n        2.54073003e-01,  1.71639108e+00, -2.88223149e-01, -7.58699229e-01,\n       -3.41728127e-01, -1.18141906e-01, -1.67404691e+00, -1.17056887e+00,\n        3.60066121e-01,  1.88098664e-01, -2.66928373e-01,  1.05557171e+00,\n        1.62236308e-01, -1.34003674e-01, -1.15612295e+00, -9.00585209e-01,\n        1.03696787e-01,  1.93817152e+00,  4.26646626e-03,  1.77140611e-01,\n       -1.91626637e+00,  1.01813291e-02, -1.26698382e+00,  1.16494627e+00,\n       -2.67119359e+00,  3.79588367e-01, -2.71831855e-01, -9.44615332e-01,\n       -2.53501113e-01,  4.00658008e-02,  7.59182535e-01, -2.58482813e+00,\n        4.83872290e-01,  7.42960058e-01, -9.02408466e-02,  2.28768039e-01,\n       -9.35791056e-01,  7.60505620e-01, -6.97460985e-01, -3.97053182e-01,\n       -1.21464934e+00, -3.45444639e-01, -1.73043156e+00, -7.53822884e-01,\n        1.98120659e+00,  1.60008535e-01,  3.59847504e-01,  4.31657838e-01,\n       -7.21624149e-01, -3.78945023e-01,  6.99063389e-01, -1.86995806e-01,\n        5.50348032e-01, -1.98619197e-01,  3.56435466e-01, -3.56376854e-01,\n        5.74471231e-01,  4.85629704e-01, -5.77513654e-01, -2.82103118e-01,\n        7.42066832e-02,  4.09419958e-01,  1.11570486e+00,  6.37054477e-01,\n        8.34288431e-01,  1.08818247e+00,  8.33429748e-01, -6.77665166e-01,\n       -5.97394308e-01, -3.15864922e-01,  2.42853387e+00, -1.25968292e+00])"
     },
     "execution_count": 98,
     "metadata": {},
     "output_type": "execute_result"
    }
   ],
   "source": [
    "data"
   ],
   "metadata": {
    "collapsed": false,
    "pycharm": {
     "name": "#%%\n"
    }
   }
  },
  {
   "cell_type": "code",
   "execution_count": 99,
   "outputs": [],
   "source": [
    "cats = pd.qcut(data,4)"
   ],
   "metadata": {
    "collapsed": false,
    "pycharm": {
     "name": "#%%\n"
    }
   }
  },
  {
   "cell_type": "code",
   "execution_count": 100,
   "outputs": [
    {
     "data": {
      "text/plain": "[(-0.0715, 0.645], (-3.078, -0.709], (0.645, 3.388], (-0.0715, 0.645], (0.645, 3.388], ..., (-0.709, -0.0715], (-0.709, -0.0715], (-0.709, -0.0715], (0.645, 3.388], (-3.078, -0.709]]\nLength: 1000\nCategories (4, interval[float64, right]): [(-3.078, -0.709] < (-0.709, -0.0715] < (-0.0715, 0.645] < (0.645, 3.388]]"
     },
     "execution_count": 100,
     "metadata": {},
     "output_type": "execute_result"
    }
   ],
   "source": [
    "cats"
   ],
   "metadata": {
    "collapsed": false,
    "pycharm": {
     "name": "#%%\n"
    }
   }
  },
  {
   "cell_type": "code",
   "execution_count": 101,
   "outputs": [
    {
     "data": {
      "text/plain": "[(-0.0715, 1.228], (-1.348, -0.0715], (-0.0715, 1.228], (-0.0715, 1.228], (1.228, 3.388], ..., (-1.348, -0.0715], (-1.348, -0.0715], (-1.348, -0.0715], (1.228, 3.388], (-1.348, -0.0715]]\nLength: 1000\nCategories (4, interval[float64, right]): [(-3.078, -1.348] < (-1.348, -0.0715] < (-0.0715, 1.228] < (1.228, 3.388]]"
     },
     "execution_count": 101,
     "metadata": {},
     "output_type": "execute_result"
    }
   ],
   "source": [
    "pd.qcut(data,[0,0.1,0.5,0.9,1.])"
   ],
   "metadata": {
    "collapsed": false,
    "pycharm": {
     "name": "#%%\n"
    }
   }
  },
  {
   "cell_type": "code",
   "execution_count": null,
   "outputs": [],
   "source": [
    "# 这个对切分可以出现一种切分很有用"
   ],
   "metadata": {
    "collapsed": false,
    "pycharm": {
     "name": "#%%\n"
    }
   }
  }
 ],
 "metadata": {
  "kernelspec": {
   "display_name": "Python 3",
   "language": "python",
   "name": "python3"
  },
  "language_info": {
   "codemirror_mode": {
    "name": "ipython",
    "version": 2
   },
   "file_extension": ".py",
   "mimetype": "text/x-python",
   "name": "python",
   "nbconvert_exporter": "python",
   "pygments_lexer": "ipython2",
   "version": "2.7.6"
  }
 },
 "nbformat": 4,
 "nbformat_minor": 0
}